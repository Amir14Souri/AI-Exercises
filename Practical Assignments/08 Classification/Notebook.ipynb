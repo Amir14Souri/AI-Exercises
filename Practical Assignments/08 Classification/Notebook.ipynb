{
 "cells": [
  {
   "cell_type": "markdown",
   "metadata": {
    "id": "VU4moqMhIoyr"
   },
   "source": [
    "<br>\n",
    "<font>\n",
    "<div dir=ltr align=center>\n",
    "<img src=\"https://cdn.freebiesupply.com/logos/large/2x/sharif-logo-png-transparent.png\" width=150 height=150> <br>\n",
    "<font color=0F5298 size=7>\n",
    "    Artificial Intelligence <br>\n",
    "<font color=2565AE size=5>\n",
    "    Computer Engineering Department <br>\n",
    "    Spring 2024<br>\n",
    "<font color=3C99D size=5>\n",
    "    Practical Assignment 4 - Machine Learning - Classification <br>\n",
    "<font color=0CBCDF size=4>\n",
    "   &#x1F335; Amirhossein Akbari  &#x1F335;\n",
    "</div>\n",
    "\n",
    "____"
   ]
  },
  {
   "cell_type": "markdown",
   "metadata": {
    "id": "dFTwS6n5URPb"
   },
   "source": [
    "<font color=9999FF size=4>\n",
    "&#x1F388; Full Name : Amirhossein Souri\n",
    "<br>\n",
    "<font color=9999FF size=4>\n",
    "&#x1F388; Student Number : 401106182"
   ]
  },
  {
   "cell_type": "markdown",
   "metadata": {
    "id": "IiM06_OmL7mK"
   },
   "source": [
    "<font color=0080FF size=3>\n",
    "This Jupyter Notebook is dedicated to exploring a classification task focused on predicting traveler satisfaction levels with airline services. In our scenario, we aim to classify whether a passenger is satisfied or not based on various features related to their travel experience. To tackle this task, we will develop and compare three different machine learning models:\n",
    "</font>\n",
    "<br>\n",
    "\n",
    "1. **Naive Bayes Classifier**: <font color=66B2FF size=2>We'll start by implementing a Naive Bayes classifier without the use of high-level libraries, understanding its mechanics and applying it to our dataset.</font>\n",
    "\n",
    "2. **Decision Tree Classifier**: <font color=66B2FF size=2>Next, we will build a Decision Tree model from the ground up, enabling us to delve into how decisions are made and splits are performed based on the data.</font>\n",
    "\n",
    "<font color=0080FF size=3>\n",
    "For each model, we'll go through the process of data preprocessing, model training, and evaluation to compare their performance. By the end of this notebook, you should have a clear understanding of these models' workings and their effectiveness in predicting airline passenger satisfaction.\n",
    "</font>"
   ]
  },
  {
   "cell_type": "markdown",
   "metadata": {
    "id": "7ULfSjsro_4s"
   },
   "source": [
    "1. <font color=red size=3>**Run All Cells Before Submission**</font>: <font color=FF99CC size=2>Before saving and submitting your notebook, please ensure you run all cells from start to finish. This practice guarantees that your notebook is self-consistent and can be evaluated correctly by others.</font>\n",
    "\n",
    "2. <font color=red size=3>**Model Evaluation and Scoring Criteria**</font>: <font color=FF99CC size=2>To receive full marks for a model implementation, the accuracy of your custom model must be within 5 percentage points of the corresponding scikit-learn model's accuracy. Should your model's accuracy fall more than <mark>5 percentage</mark> points below that of the scikit-learn model, or if the scikit-learn model's accuracy is below 80%, points will be deducted accordingly.</font>"
   ]
  },
  {
   "cell_type": "markdown",
   "metadata": {},
   "source": [
    "<font color=#ffb578 size=3>\n",
    "you are free to modify, add, or remove any cells as you see fit to complete your tasks. Feel free to change any of the provided code or content to better suit your understanding and approach to the problems.\n",
    "\n",
    "- **Questions**: If you have any questions or require clarifications as you work through the notebook, please do not hesitate to ask. You can post your queries on Quera or reach out via Telegram.\n",
    "- **Feedback**: We encourage you to seek feedback and engage in discussions to enhance your learning experience and improve your solutions.\n",
    "</font>"
   ]
  },
  {
   "cell_type": "markdown",
   "metadata": {
    "id": "c_QEgiwhVGFz"
   },
   "source": [
    "Importing necessary libraries"
   ]
  },
  {
   "cell_type": "code",
   "execution_count": 1,
   "metadata": {
    "_cell_guid": "b1076dfc-b9ad-4769-8c92-a6c4dae69d19",
    "_uuid": "8f2839f25d086af736a60e9eeb907d3b93b6e0e5",
    "id": "AbgV1TkxAFGW"
   },
   "outputs": [],
   "source": [
    "import os\n",
    "import pandas as pd\n",
    "import matplotlib.pyplot as plt\n",
    "import seaborn as sns\n",
    "from sklearn.model_selection import train_test_split\n",
    "from sklearn.metrics import classification_report, confusion_matrix\n",
    "import numpy as np\n",
    "import statistics as st"
   ]
  },
  {
   "cell_type": "markdown",
   "metadata": {
    "id": "mQFg_wzMAFGZ"
   },
   "source": [
    "Before proceeding, please execute the cell below to download the dataset if you're using Kaggle or Colab; if running locally, utilize the dataset in the 'HW' folder."
   ]
  },
  {
   "cell_type": "code",
   "execution_count": 2,
   "metadata": {
    "id": "j2n2dfz5AFGb"
   },
   "outputs": [
    {
     "name": "stderr",
     "output_type": "stream",
     "text": [
      "SYSTEM_WGETRC = c:/progra~1/wget/etc/wgetrc\n",
      "syswgetrc = C:\\Program Files (x86)\\GnuWin32/etc/wgetrc\n"
     ]
    }
   ],
   "source": [
    "current_path = os.getcwd()\n",
    "data_url = \"https://www.dropbox.com/scl/fi/75xu0qz933plnpid1uplz/AI-HW4-Q2-Data.csv?rlkey=47o5ksm1qyoabswahequk7t1d&dl=0\"\n",
    "data_path = os.path.join(current_path, \"data.csv\")\n",
    "!wget -q -O \"{data_path}\" \"{data_url}\""
   ]
  },
  {
   "cell_type": "markdown",
   "metadata": {
    "id": "s4-fgsUxAFGc"
   },
   "source": [
    "# Data Exploration (5 point)\n",
    "In this section, we perform some data exploration to get a better understanding of the data."
   ]
  },
  {
   "cell_type": "markdown",
   "metadata": {
    "id": "0D6is7_XAFGd"
   },
   "source": [
    "## Task1: Load and Inspect the Dataset (2 point)\n",
    "Load the train dataset as a dataframe and show the first 10 rows of the dataframe"
   ]
  },
  {
   "cell_type": "code",
   "execution_count": 3,
   "metadata": {
    "colab": {
     "base_uri": "https://localhost:8080/",
     "height": 571
    },
    "id": "7opFrctRAFGe",
    "outputId": "5b82785e-ea1f-4b05-83c2-bf5f92fa6aa5"
   },
   "outputs": [
    {
     "data": {
      "text/html": [
       "<div>\n",
       "<style scoped>\n",
       "    .dataframe tbody tr th:only-of-type {\n",
       "        vertical-align: middle;\n",
       "    }\n",
       "\n",
       "    .dataframe tbody tr th {\n",
       "        vertical-align: top;\n",
       "    }\n",
       "\n",
       "    .dataframe thead th {\n",
       "        text-align: right;\n",
       "    }\n",
       "</style>\n",
       "<table border=\"1\" class=\"dataframe\">\n",
       "  <thead>\n",
       "    <tr style=\"text-align: right;\">\n",
       "      <th></th>\n",
       "      <th>Customer Type</th>\n",
       "      <th>Type of Travel</th>\n",
       "      <th>Class</th>\n",
       "      <th>Flight Distance</th>\n",
       "      <th>Inflight wifi service</th>\n",
       "      <th>Ease of Online booking</th>\n",
       "      <th>Online boarding</th>\n",
       "      <th>Seat comfort</th>\n",
       "      <th>Inflight entertainment</th>\n",
       "      <th>satisfaction</th>\n",
       "    </tr>\n",
       "  </thead>\n",
       "  <tbody>\n",
       "    <tr>\n",
       "      <th>0</th>\n",
       "      <td>Loyal Customer</td>\n",
       "      <td>Personal Travel</td>\n",
       "      <td>Eco Plus</td>\n",
       "      <td>460</td>\n",
       "      <td>3</td>\n",
       "      <td>3</td>\n",
       "      <td>3</td>\n",
       "      <td>5</td>\n",
       "      <td>5</td>\n",
       "      <td>neutral or dissatisfied</td>\n",
       "    </tr>\n",
       "    <tr>\n",
       "      <th>1</th>\n",
       "      <td>disloyal Customer</td>\n",
       "      <td>Business travel</td>\n",
       "      <td>Business</td>\n",
       "      <td>235</td>\n",
       "      <td>3</td>\n",
       "      <td>3</td>\n",
       "      <td>3</td>\n",
       "      <td>1</td>\n",
       "      <td>1</td>\n",
       "      <td>neutral or dissatisfied</td>\n",
       "    </tr>\n",
       "    <tr>\n",
       "      <th>2</th>\n",
       "      <td>Loyal Customer</td>\n",
       "      <td>Business travel</td>\n",
       "      <td>Business</td>\n",
       "      <td>1142</td>\n",
       "      <td>2</td>\n",
       "      <td>2</td>\n",
       "      <td>5</td>\n",
       "      <td>5</td>\n",
       "      <td>5</td>\n",
       "      <td>satisfied</td>\n",
       "    </tr>\n",
       "    <tr>\n",
       "      <th>3</th>\n",
       "      <td>Loyal Customer</td>\n",
       "      <td>Business travel</td>\n",
       "      <td>Business</td>\n",
       "      <td>562</td>\n",
       "      <td>2</td>\n",
       "      <td>5</td>\n",
       "      <td>2</td>\n",
       "      <td>2</td>\n",
       "      <td>2</td>\n",
       "      <td>neutral or dissatisfied</td>\n",
       "    </tr>\n",
       "    <tr>\n",
       "      <th>4</th>\n",
       "      <td>Loyal Customer</td>\n",
       "      <td>Business travel</td>\n",
       "      <td>Business</td>\n",
       "      <td>214</td>\n",
       "      <td>3</td>\n",
       "      <td>3</td>\n",
       "      <td>5</td>\n",
       "      <td>5</td>\n",
       "      <td>3</td>\n",
       "      <td>satisfied</td>\n",
       "    </tr>\n",
       "    <tr>\n",
       "      <th>5</th>\n",
       "      <td>Loyal Customer</td>\n",
       "      <td>Personal Travel</td>\n",
       "      <td>Eco</td>\n",
       "      <td>1180</td>\n",
       "      <td>3</td>\n",
       "      <td>2</td>\n",
       "      <td>2</td>\n",
       "      <td>1</td>\n",
       "      <td>1</td>\n",
       "      <td>neutral or dissatisfied</td>\n",
       "    </tr>\n",
       "    <tr>\n",
       "      <th>6</th>\n",
       "      <td>Loyal Customer</td>\n",
       "      <td>Personal Travel</td>\n",
       "      <td>Eco</td>\n",
       "      <td>1276</td>\n",
       "      <td>2</td>\n",
       "      <td>2</td>\n",
       "      <td>2</td>\n",
       "      <td>2</td>\n",
       "      <td>2</td>\n",
       "      <td>neutral or dissatisfied</td>\n",
       "    </tr>\n",
       "    <tr>\n",
       "      <th>7</th>\n",
       "      <td>Loyal Customer</td>\n",
       "      <td>Business travel</td>\n",
       "      <td>Business</td>\n",
       "      <td>2035</td>\n",
       "      <td>4</td>\n",
       "      <td>4</td>\n",
       "      <td>5</td>\n",
       "      <td>5</td>\n",
       "      <td>5</td>\n",
       "      <td>satisfied</td>\n",
       "    </tr>\n",
       "    <tr>\n",
       "      <th>8</th>\n",
       "      <td>Loyal Customer</td>\n",
       "      <td>Business travel</td>\n",
       "      <td>Business</td>\n",
       "      <td>853</td>\n",
       "      <td>1</td>\n",
       "      <td>2</td>\n",
       "      <td>3</td>\n",
       "      <td>3</td>\n",
       "      <td>1</td>\n",
       "      <td>neutral or dissatisfied</td>\n",
       "    </tr>\n",
       "    <tr>\n",
       "      <th>9</th>\n",
       "      <td>disloyal Customer</td>\n",
       "      <td>Business travel</td>\n",
       "      <td>Eco</td>\n",
       "      <td>1061</td>\n",
       "      <td>3</td>\n",
       "      <td>3</td>\n",
       "      <td>3</td>\n",
       "      <td>3</td>\n",
       "      <td>2</td>\n",
       "      <td>neutral or dissatisfied</td>\n",
       "    </tr>\n",
       "  </tbody>\n",
       "</table>\n",
       "</div>"
      ],
      "text/plain": [
       "       Customer Type   Type of Travel     Class  Flight Distance  \\\n",
       "0     Loyal Customer  Personal Travel  Eco Plus              460   \n",
       "1  disloyal Customer  Business travel  Business              235   \n",
       "2     Loyal Customer  Business travel  Business             1142   \n",
       "3     Loyal Customer  Business travel  Business              562   \n",
       "4     Loyal Customer  Business travel  Business              214   \n",
       "5     Loyal Customer  Personal Travel       Eco             1180   \n",
       "6     Loyal Customer  Personal Travel       Eco             1276   \n",
       "7     Loyal Customer  Business travel  Business             2035   \n",
       "8     Loyal Customer  Business travel  Business              853   \n",
       "9  disloyal Customer  Business travel       Eco             1061   \n",
       "\n",
       "   Inflight wifi service  Ease of Online booking  Online boarding  \\\n",
       "0                      3                       3                3   \n",
       "1                      3                       3                3   \n",
       "2                      2                       2                5   \n",
       "3                      2                       5                2   \n",
       "4                      3                       3                5   \n",
       "5                      3                       2                2   \n",
       "6                      2                       2                2   \n",
       "7                      4                       4                5   \n",
       "8                      1                       2                3   \n",
       "9                      3                       3                3   \n",
       "\n",
       "   Seat comfort  Inflight entertainment             satisfaction  \n",
       "0             5                       5  neutral or dissatisfied  \n",
       "1             1                       1  neutral or dissatisfied  \n",
       "2             5                       5                satisfied  \n",
       "3             2                       2  neutral or dissatisfied  \n",
       "4             5                       3                satisfied  \n",
       "5             1                       1  neutral or dissatisfied  \n",
       "6             2                       2  neutral or dissatisfied  \n",
       "7             5                       5                satisfied  \n",
       "8             3                       1  neutral or dissatisfied  \n",
       "9             3                       2  neutral or dissatisfied  "
      ]
     },
     "execution_count": 3,
     "metadata": {},
     "output_type": "execute_result"
    }
   ],
   "source": [
    "data = pd.read_csv('Dataset/train.csv')\n",
    "data.drop(columns=['Unnamed: 0'], inplace=True)\n",
    "\n",
    "data.head(10)"
   ]
  },
  {
   "cell_type": "markdown",
   "metadata": {
    "id": "mo8LOXwvAFGe"
   },
   "source": [
    "## Task 2: Dataset Overview (4 point)\n",
    "Perform an initial exploration of the dataset to understand its structure, including the number of features, rows, and the types of data (numerical or categorical) it contains. Use methods like [.info()](https://pandas.pydata.org/docs/reference/api/pandas.DataFrame.info.html) and [.describe()](https://pandas.pydata.org/pandas-docs/stable/reference/api/pandas.DataFrame.describe.html) for this purpose."
   ]
  },
  {
   "cell_type": "code",
   "execution_count": 4,
   "metadata": {
    "colab": {
     "base_uri": "https://localhost:8080/"
    },
    "id": "OxqTxOkNAFGe",
    "outputId": "64e041c1-a018-478b-f5ee-8a896c2bf69f"
   },
   "outputs": [
    {
     "name": "stdout",
     "output_type": "stream",
     "text": [
      "(103904, 10)\n",
      "<class 'pandas.core.frame.DataFrame'>\n",
      "RangeIndex: 103904 entries, 0 to 103903\n",
      "Data columns (total 10 columns):\n",
      " #   Column                  Non-Null Count   Dtype \n",
      "---  ------                  --------------   ----- \n",
      " 0   Customer Type           103904 non-null  object\n",
      " 1   Type of Travel          103904 non-null  object\n",
      " 2   Class                   103904 non-null  object\n",
      " 3   Flight Distance         103904 non-null  int64 \n",
      " 4   Inflight wifi service   103904 non-null  int64 \n",
      " 5   Ease of Online booking  103904 non-null  int64 \n",
      " 6   Online boarding         103904 non-null  int64 \n",
      " 7   Seat comfort            103904 non-null  int64 \n",
      " 8   Inflight entertainment  103904 non-null  int64 \n",
      " 9   satisfaction            103904 non-null  object\n",
      "dtypes: int64(6), object(4)\n",
      "memory usage: 7.9+ MB\n",
      "None\n"
     ]
    }
   ],
   "source": [
    "print(data.shape)\n",
    "print(data.info())"
   ]
  },
  {
   "cell_type": "markdown",
   "metadata": {
    "id": "QgTP4O7LAFGf"
   },
   "source": [
    "## Task 3: Distribution and Analysis (4 point)\n",
    "Visualize the distribution of both numerical and categorical features in the dataset using [histograms](https://matplotlib.org/stable/gallery/statistics/hist.html) for numerical data and [bar charts](https://matplotlib.org/stable/api/_as_gen/matplotlib.pyplot.bar.html) for categorical data. Analyze these distributions to identify any patterns, outliers, or anomalies in the data."
   ]
  },
  {
   "cell_type": "code",
   "execution_count": 5,
   "metadata": {
    "colab": {
     "base_uri": "https://localhost:8080/",
     "height": 905
    },
    "id": "Wdt8nSlkAFGf",
    "outputId": "02dd4f8c-93f2-43c8-c100-7ba43ffc7eb5"
   },
   "outputs": [
    {
     "data": {
      "image/png": "[encoded data removed]",
      "text/plain": [
       "<Figure size 2000x2000 with 9 Axes>"
      ]
     },
     "metadata": {},
     "output_type": "display_data"
    }
   ],
   "source": [
    "plt.subplots(3, 3, figsize=(20, 20))\n",
    "for i in range(1, 7):\n",
    "    plt.subplot(3, 3, i)\n",
    "    sns.histplot(data.iloc[:, i + 2], bins=30, kde=True)\n",
    "    \n",
    "for i in range(7, 10):\n",
    "    plt.subplot(3, 3, i)\n",
    "    sns.countplot(y=data.iloc[:, i - 7])"
   ]
  },
  {
   "cell_type": "markdown",
   "metadata": {
    "id": "OgZi8XHxAFGg"
   },
   "source": [
    "# Pre-processing (15 pint)\n",
    "In this section, we perform some pre-processing to make the data ready for models."
   ]
  },
  {
   "cell_type": "markdown",
   "metadata": {
    "id": "_0LPz5c2AFGh"
   },
   "source": [
    "## Task 1: Handling Missing Values (2 point)\n",
    "In this task, we will handle missing values by [dropping](https://pandas.pydata.org/docs/reference/api/pandas.DataFrame.drop.html) records that contain missing values."
   ]
  },
  {
   "cell_type": "code",
   "execution_count": 6,
   "metadata": {
    "id": "2P_dgekiAFGh"
   },
   "outputs": [
    {
     "data": {
      "text/html": [
       "<div>\n",
       "<style scoped>\n",
       "    .dataframe tbody tr th:only-of-type {\n",
       "        vertical-align: middle;\n",
       "    }\n",
       "\n",
       "    .dataframe tbody tr th {\n",
       "        vertical-align: top;\n",
       "    }\n",
       "\n",
       "    .dataframe thead th {\n",
       "        text-align: right;\n",
       "    }\n",
       "</style>\n",
       "<table border=\"1\" class=\"dataframe\">\n",
       "  <thead>\n",
       "    <tr style=\"text-align: right;\">\n",
       "      <th></th>\n",
       "      <th>Customer Type</th>\n",
       "      <th>Type of Travel</th>\n",
       "      <th>Class</th>\n",
       "      <th>Flight Distance</th>\n",
       "      <th>Inflight wifi service</th>\n",
       "      <th>Ease of Online booking</th>\n",
       "      <th>Online boarding</th>\n",
       "      <th>Seat comfort</th>\n",
       "      <th>Inflight entertainment</th>\n",
       "      <th>satisfaction</th>\n",
       "    </tr>\n",
       "  </thead>\n",
       "  <tbody>\n",
       "    <tr>\n",
       "      <th>0</th>\n",
       "      <td>Loyal Customer</td>\n",
       "      <td>Personal Travel</td>\n",
       "      <td>Eco Plus</td>\n",
       "      <td>460</td>\n",
       "      <td>3</td>\n",
       "      <td>3</td>\n",
       "      <td>3</td>\n",
       "      <td>5</td>\n",
       "      <td>5</td>\n",
       "      <td>neutral or dissatisfied</td>\n",
       "    </tr>\n",
       "    <tr>\n",
       "      <th>1</th>\n",
       "      <td>disloyal Customer</td>\n",
       "      <td>Business travel</td>\n",
       "      <td>Business</td>\n",
       "      <td>235</td>\n",
       "      <td>3</td>\n",
       "      <td>3</td>\n",
       "      <td>3</td>\n",
       "      <td>1</td>\n",
       "      <td>1</td>\n",
       "      <td>neutral or dissatisfied</td>\n",
       "    </tr>\n",
       "    <tr>\n",
       "      <th>2</th>\n",
       "      <td>Loyal Customer</td>\n",
       "      <td>Business travel</td>\n",
       "      <td>Business</td>\n",
       "      <td>1142</td>\n",
       "      <td>2</td>\n",
       "      <td>2</td>\n",
       "      <td>5</td>\n",
       "      <td>5</td>\n",
       "      <td>5</td>\n",
       "      <td>satisfied</td>\n",
       "    </tr>\n",
       "    <tr>\n",
       "      <th>3</th>\n",
       "      <td>Loyal Customer</td>\n",
       "      <td>Business travel</td>\n",
       "      <td>Business</td>\n",
       "      <td>562</td>\n",
       "      <td>2</td>\n",
       "      <td>5</td>\n",
       "      <td>2</td>\n",
       "      <td>2</td>\n",
       "      <td>2</td>\n",
       "      <td>neutral or dissatisfied</td>\n",
       "    </tr>\n",
       "    <tr>\n",
       "      <th>4</th>\n",
       "      <td>Loyal Customer</td>\n",
       "      <td>Business travel</td>\n",
       "      <td>Business</td>\n",
       "      <td>214</td>\n",
       "      <td>3</td>\n",
       "      <td>3</td>\n",
       "      <td>5</td>\n",
       "      <td>5</td>\n",
       "      <td>3</td>\n",
       "      <td>satisfied</td>\n",
       "    </tr>\n",
       "    <tr>\n",
       "      <th>...</th>\n",
       "      <td>...</td>\n",
       "      <td>...</td>\n",
       "      <td>...</td>\n",
       "      <td>...</td>\n",
       "      <td>...</td>\n",
       "      <td>...</td>\n",
       "      <td>...</td>\n",
       "      <td>...</td>\n",
       "      <td>...</td>\n",
       "      <td>...</td>\n",
       "    </tr>\n",
       "    <tr>\n",
       "      <th>103899</th>\n",
       "      <td>disloyal Customer</td>\n",
       "      <td>Business travel</td>\n",
       "      <td>Eco</td>\n",
       "      <td>192</td>\n",
       "      <td>2</td>\n",
       "      <td>2</td>\n",
       "      <td>2</td>\n",
       "      <td>2</td>\n",
       "      <td>2</td>\n",
       "      <td>neutral or dissatisfied</td>\n",
       "    </tr>\n",
       "    <tr>\n",
       "      <th>103900</th>\n",
       "      <td>Loyal Customer</td>\n",
       "      <td>Business travel</td>\n",
       "      <td>Business</td>\n",
       "      <td>2347</td>\n",
       "      <td>4</td>\n",
       "      <td>4</td>\n",
       "      <td>4</td>\n",
       "      <td>5</td>\n",
       "      <td>5</td>\n",
       "      <td>satisfied</td>\n",
       "    </tr>\n",
       "    <tr>\n",
       "      <th>103901</th>\n",
       "      <td>disloyal Customer</td>\n",
       "      <td>Business travel</td>\n",
       "      <td>Business</td>\n",
       "      <td>1995</td>\n",
       "      <td>1</td>\n",
       "      <td>1</td>\n",
       "      <td>1</td>\n",
       "      <td>5</td>\n",
       "      <td>4</td>\n",
       "      <td>neutral or dissatisfied</td>\n",
       "    </tr>\n",
       "    <tr>\n",
       "      <th>103902</th>\n",
       "      <td>disloyal Customer</td>\n",
       "      <td>Business travel</td>\n",
       "      <td>Eco</td>\n",
       "      <td>1000</td>\n",
       "      <td>1</td>\n",
       "      <td>1</td>\n",
       "      <td>1</td>\n",
       "      <td>1</td>\n",
       "      <td>1</td>\n",
       "      <td>neutral or dissatisfied</td>\n",
       "    </tr>\n",
       "    <tr>\n",
       "      <th>103903</th>\n",
       "      <td>Loyal Customer</td>\n",
       "      <td>Business travel</td>\n",
       "      <td>Business</td>\n",
       "      <td>1723</td>\n",
       "      <td>1</td>\n",
       "      <td>3</td>\n",
       "      <td>1</td>\n",
       "      <td>1</td>\n",
       "      <td>1</td>\n",
       "      <td>neutral or dissatisfied</td>\n",
       "    </tr>\n",
       "  </tbody>\n",
       "</table>\n",
       "<p>103904 rows × 10 columns</p>\n",
       "</div>"
      ],
      "text/plain": [
       "            Customer Type   Type of Travel     Class  Flight Distance  \\\n",
       "0          Loyal Customer  Personal Travel  Eco Plus              460   \n",
       "1       disloyal Customer  Business travel  Business              235   \n",
       "2          Loyal Customer  Business travel  Business             1142   \n",
       "3          Loyal Customer  Business travel  Business              562   \n",
       "4          Loyal Customer  Business travel  Business              214   \n",
       "...                   ...              ...       ...              ...   \n",
       "103899  disloyal Customer  Business travel       Eco              192   \n",
       "103900     Loyal Customer  Business travel  Business             2347   \n",
       "103901  disloyal Customer  Business travel  Business             1995   \n",
       "103902  disloyal Customer  Business travel       Eco             1000   \n",
       "103903     Loyal Customer  Business travel  Business             1723   \n",
       "\n",
       "        Inflight wifi service  Ease of Online booking  Online boarding  \\\n",
       "0                           3                       3                3   \n",
       "1                           3                       3                3   \n",
       "2                           2                       2                5   \n",
       "3                           2                       5                2   \n",
       "4                           3                       3                5   \n",
       "...                       ...                     ...              ...   \n",
       "103899                      2                       2                2   \n",
       "103900                      4                       4                4   \n",
       "103901                      1                       1                1   \n",
       "103902                      1                       1                1   \n",
       "103903                      1                       3                1   \n",
       "\n",
       "        Seat comfort  Inflight entertainment             satisfaction  \n",
       "0                  5                       5  neutral or dissatisfied  \n",
       "1                  1                       1  neutral or dissatisfied  \n",
       "2                  5                       5                satisfied  \n",
       "3                  2                       2  neutral or dissatisfied  \n",
       "4                  5                       3                satisfied  \n",
       "...              ...                     ...                      ...  \n",
       "103899             2                       2  neutral or dissatisfied  \n",
       "103900             5                       5                satisfied  \n",
       "103901             5                       4  neutral or dissatisfied  \n",
       "103902             1                       1  neutral or dissatisfied  \n",
       "103903             1                       1  neutral or dissatisfied  \n",
       "\n",
       "[103904 rows x 10 columns]"
      ]
     },
     "execution_count": 6,
     "metadata": {},
     "output_type": "execute_result"
    }
   ],
   "source": [
    "data.dropna()"
   ]
  },
  {
   "cell_type": "markdown",
   "metadata": {
    "id": "0QEc77QGAFGi"
   },
   "source": [
    "## Task 2: Converting Categorical Variables to Numeric (7 point)\n",
    "We will use [one-hot encoding](https://www.kdnuggets.com/2023/07/pandas-onehot-encode-data.html) to convert categorical variables into a format that can be provided to ML algorithms. Also convert the categorical target variable 'satisfaction' into numeric format, where 'satisfied' is mapped to 1 and 'neutral or dissatisfied' is mapped to 0."
   ]
  },
  {
   "cell_type": "code",
   "execution_count": 7,
   "metadata": {
    "id": "26ZbJtJ6AFGj"
   },
   "outputs": [
    {
     "data": {
      "text/html": [
       "<div>\n",
       "<style scoped>\n",
       "    .dataframe tbody tr th:only-of-type {\n",
       "        vertical-align: middle;\n",
       "    }\n",
       "\n",
       "    .dataframe tbody tr th {\n",
       "        vertical-align: top;\n",
       "    }\n",
       "\n",
       "    .dataframe thead th {\n",
       "        text-align: right;\n",
       "    }\n",
       "</style>\n",
       "<table border=\"1\" class=\"dataframe\">\n",
       "  <thead>\n",
       "    <tr style=\"text-align: right;\">\n",
       "      <th></th>\n",
       "      <th>Customer Type</th>\n",
       "      <th>Type of Travel</th>\n",
       "      <th>Class</th>\n",
       "      <th>Flight Distance</th>\n",
       "      <th>Inflight wifi service</th>\n",
       "      <th>Ease of Online booking</th>\n",
       "      <th>Online boarding</th>\n",
       "      <th>Seat comfort</th>\n",
       "      <th>Inflight entertainment</th>\n",
       "      <th>satisfaction</th>\n",
       "    </tr>\n",
       "  </thead>\n",
       "  <tbody>\n",
       "    <tr>\n",
       "      <th>0</th>\n",
       "      <td>0</td>\n",
       "      <td>0</td>\n",
       "      <td>0</td>\n",
       "      <td>460</td>\n",
       "      <td>3</td>\n",
       "      <td>3</td>\n",
       "      <td>3</td>\n",
       "      <td>5</td>\n",
       "      <td>5</td>\n",
       "      <td>0</td>\n",
       "    </tr>\n",
       "    <tr>\n",
       "      <th>1</th>\n",
       "      <td>1</td>\n",
       "      <td>1</td>\n",
       "      <td>1</td>\n",
       "      <td>235</td>\n",
       "      <td>3</td>\n",
       "      <td>3</td>\n",
       "      <td>3</td>\n",
       "      <td>1</td>\n",
       "      <td>1</td>\n",
       "      <td>0</td>\n",
       "    </tr>\n",
       "    <tr>\n",
       "      <th>2</th>\n",
       "      <td>0</td>\n",
       "      <td>1</td>\n",
       "      <td>1</td>\n",
       "      <td>1142</td>\n",
       "      <td>2</td>\n",
       "      <td>2</td>\n",
       "      <td>5</td>\n",
       "      <td>5</td>\n",
       "      <td>5</td>\n",
       "      <td>1</td>\n",
       "    </tr>\n",
       "    <tr>\n",
       "      <th>3</th>\n",
       "      <td>0</td>\n",
       "      <td>1</td>\n",
       "      <td>1</td>\n",
       "      <td>562</td>\n",
       "      <td>2</td>\n",
       "      <td>5</td>\n",
       "      <td>2</td>\n",
       "      <td>2</td>\n",
       "      <td>2</td>\n",
       "      <td>0</td>\n",
       "    </tr>\n",
       "    <tr>\n",
       "      <th>4</th>\n",
       "      <td>0</td>\n",
       "      <td>1</td>\n",
       "      <td>1</td>\n",
       "      <td>214</td>\n",
       "      <td>3</td>\n",
       "      <td>3</td>\n",
       "      <td>5</td>\n",
       "      <td>5</td>\n",
       "      <td>3</td>\n",
       "      <td>1</td>\n",
       "    </tr>\n",
       "    <tr>\n",
       "      <th>5</th>\n",
       "      <td>0</td>\n",
       "      <td>0</td>\n",
       "      <td>2</td>\n",
       "      <td>1180</td>\n",
       "      <td>3</td>\n",
       "      <td>2</td>\n",
       "      <td>2</td>\n",
       "      <td>1</td>\n",
       "      <td>1</td>\n",
       "      <td>0</td>\n",
       "    </tr>\n",
       "    <tr>\n",
       "      <th>6</th>\n",
       "      <td>0</td>\n",
       "      <td>0</td>\n",
       "      <td>2</td>\n",
       "      <td>1276</td>\n",
       "      <td>2</td>\n",
       "      <td>2</td>\n",
       "      <td>2</td>\n",
       "      <td>2</td>\n",
       "      <td>2</td>\n",
       "      <td>0</td>\n",
       "    </tr>\n",
       "    <tr>\n",
       "      <th>7</th>\n",
       "      <td>0</td>\n",
       "      <td>1</td>\n",
       "      <td>1</td>\n",
       "      <td>2035</td>\n",
       "      <td>4</td>\n",
       "      <td>4</td>\n",
       "      <td>5</td>\n",
       "      <td>5</td>\n",
       "      <td>5</td>\n",
       "      <td>1</td>\n",
       "    </tr>\n",
       "    <tr>\n",
       "      <th>8</th>\n",
       "      <td>0</td>\n",
       "      <td>1</td>\n",
       "      <td>1</td>\n",
       "      <td>853</td>\n",
       "      <td>1</td>\n",
       "      <td>2</td>\n",
       "      <td>3</td>\n",
       "      <td>3</td>\n",
       "      <td>1</td>\n",
       "      <td>0</td>\n",
       "    </tr>\n",
       "    <tr>\n",
       "      <th>9</th>\n",
       "      <td>1</td>\n",
       "      <td>1</td>\n",
       "      <td>2</td>\n",
       "      <td>1061</td>\n",
       "      <td>3</td>\n",
       "      <td>3</td>\n",
       "      <td>3</td>\n",
       "      <td>3</td>\n",
       "      <td>2</td>\n",
       "      <td>0</td>\n",
       "    </tr>\n",
       "  </tbody>\n",
       "</table>\n",
       "</div>"
      ],
      "text/plain": [
       "   Customer Type  Type of Travel  Class  Flight Distance  \\\n",
       "0              0               0      0              460   \n",
       "1              1               1      1              235   \n",
       "2              0               1      1             1142   \n",
       "3              0               1      1              562   \n",
       "4              0               1      1              214   \n",
       "5              0               0      2             1180   \n",
       "6              0               0      2             1276   \n",
       "7              0               1      1             2035   \n",
       "8              0               1      1              853   \n",
       "9              1               1      2             1061   \n",
       "\n",
       "   Inflight wifi service  Ease of Online booking  Online boarding  \\\n",
       "0                      3                       3                3   \n",
       "1                      3                       3                3   \n",
       "2                      2                       2                5   \n",
       "3                      2                       5                2   \n",
       "4                      3                       3                5   \n",
       "5                      3                       2                2   \n",
       "6                      2                       2                2   \n",
       "7                      4                       4                5   \n",
       "8                      1                       2                3   \n",
       "9                      3                       3                3   \n",
       "\n",
       "   Seat comfort  Inflight entertainment  satisfaction  \n",
       "0             5                       5             0  \n",
       "1             1                       1             0  \n",
       "2             5                       5             1  \n",
       "3             2                       2             0  \n",
       "4             5                       3             1  \n",
       "5             1                       1             0  \n",
       "6             2                       2             0  \n",
       "7             5                       5             1  \n",
       "8             3                       1             0  \n",
       "9             3                       2             0  "
      ]
     },
     "execution_count": 7,
     "metadata": {},
     "output_type": "execute_result"
    }
   ],
   "source": [
    "data['Customer Type'] = pd.factorize(data['Customer Type'])[0]\n",
    "data['Type of Travel'] = pd.factorize(data['Type of Travel'])[0]\n",
    "data['Class'] = pd.factorize(data['Class'])[0]\n",
    "data['satisfaction'] = pd.factorize(data['satisfaction'])[0]\n",
    "\n",
    "data.head(10)"
   ]
  },
  {
   "cell_type": "markdown",
   "metadata": {
    "id": "-nR1U95fAFGj"
   },
   "source": [
    "## Task 3: Splitting the Data into Training and Test Sets(6 point)\n",
    "Finally, [split your data](https://scikit-learn.org/stable/modules/generated/sklearn.model_selection.train_test_split.html) into training and test sets. This is a critical step for training and evaluating the performance of your models."
   ]
  },
  {
   "cell_type": "code",
   "execution_count": 8,
   "metadata": {
    "colab": {
     "base_uri": "https://localhost:8080/"
    },
    "id": "H1aAb9WnAFGj",
    "outputId": "d8342229-78af-4056-a101-25af3cecae90"
   },
   "outputs": [
    {
     "name": "stdout",
     "output_type": "stream",
     "text": [
      "Train Set: X -> (83123, 9) | y -> (83123,)\n",
      "Test Set: X -> (20781, 9) | y -> (20781,)\n"
     ]
    }
   ],
   "source": [
    "X = np.array(data.iloc[:, 0:9])\n",
    "y = np.array(data.iloc[:, 9])\n",
    "\n",
    "X_train, X_test, y_train, y_test = train_test_split(X, y, test_size=0.2)\n",
    "\n",
    "print('Train Set: X ->', X_train.shape, '| y ->', y_train.shape)\n",
    "print('Test Set: X ->', X_test.shape, '| y ->', y_test.shape)"
   ]
  },
  {
   "cell_type": "markdown",
   "metadata": {},
   "source": [
    "<font size=3>\n",
    "Now that our data is prepared and we have separate training and testing datasets, along with the necessary preprocessing completed, we are ready to move on to the model building and training phase. We will start with the Naive Bayes classifier, which is our first model in this series of experiments."
   ]
  },
  {
   "cell_type": "markdown",
   "metadata": {
    "id": "ik9gIoYAAFGk"
   },
   "source": [
    "# Naive Bayes Classifier (25 point)"
   ]
  },
  {
   "cell_type": "markdown",
   "metadata": {
    "id": "9mT-KY3GAFGk"
   },
   "source": [
    "## Task 1: Implement Naive Bayes Classifier from Scratch (15 point)\n",
    "In this task, you will implement the [Naive Bayes Classifier](https://en.wikipedia.org/wiki/Naive_Bayes_classifier) from scratch. This will involve calculating the prior probabilities for each class, the likelihood of the data given the class, and using these to calculate the posterior probabilities for the prediction.\n",
    "\n",
    "\n",
    "[This video](https://www.youtube.com/watch?v=O2L2Uv9pdDA) will be helpful too.\n",
    "Especially [this model](https://www.youtube.com/watch?v=H3EjCKtlVog).\n"
   ]
  },
  {
   "cell_type": "code",
   "execution_count": 9,
   "metadata": {
    "id": "vZV9TjBAAFGk"
   },
   "outputs": [],
   "source": [
    "class NaiveBayesClassifier:\n",
    "    def __init__(self):\n",
    "        \"\"\"\n",
    "        Initialize the Naive Bayes Classifier with dictionaries for means, variances,\n",
    "        and priors of each class.\n",
    "\n",
    "        Inputs:\n",
    "        None\n",
    "\n",
    "        Outputs:\n",
    "        An instance of the NaiveBayesClassifier with initialized storage for model parameters.\n",
    "        \"\"\"\n",
    "        self.classes = None\n",
    "        self.means = {}\n",
    "        self.variances = {}\n",
    "        self.priors = {}\n",
    "        \n",
    "\n",
    "    def fit(self, X, y):\n",
    "        \"\"\"\n",
    "        Fit the Naive Bayes Classifier according to X, a dataset with features, and y,\n",
    "        the corresponding labels.\n",
    "\n",
    "        Inputs:\n",
    "        - X: A 2D numpy array of shape (n_samples, n_features) representing the training data.\n",
    "        - y: A 1D numpy array of shape (n_samples,) representing the class labels for each\n",
    "             training sample.\n",
    "\n",
    "        Outputs:\n",
    "        None, but the fit method updates the classifier's parameters (mean, var, priors) based\n",
    "        on the training data.\n",
    "        \"\"\"\n",
    "        self.classes = np.unique(y)\n",
    "        for label in self.classes:\n",
    "            X_label = X[y == label]\n",
    "            self.means[label] = X_label.mean(axis=0)\n",
    "            self.variances[label] = X_label.var(axis=0)\n",
    "            self.priors[label] = X_label.shape[0] / X.shape[0]\n",
    "\n",
    "            \n",
    "    def gaussian_pdf(self, class_idx, x):\n",
    "        \"\"\"\n",
    "        Calculate the Gaussian probability density function for a given class index and a single sample.\n",
    "\n",
    "        Inputs:\n",
    "        - class_idx: The index of the class for which the probability is calculated.\n",
    "        - x: A 1D numpy array of feature values for a single sample.\n",
    "\n",
    "        Outputs:\n",
    "        - The probability of x given the class index, computed using the Gaussian PDF.\n",
    "\n",
    "        Note: This function is specific to Gaussian Naive Bayes. If another variant of Naive Bayes\n",
    "        is used (e.g., Multinomial Naive Bayes), this function may not be necessary and can be omitted.\n",
    "        \"\"\"\n",
    "        mean = self.means[class_idx]\n",
    "        var = self.variances[class_idx]\n",
    "        numerator = np.exp(- (x - mean) ** 2 / (2 * var))\n",
    "        denominator = np.sqrt(2 * np.pi * var)\n",
    "        return numerator / denominator\n",
    "    \n",
    "\n",
    "    def predict(self, X):\n",
    "        \"\"\"\n",
    "        Perform classification on an array of test vectors X.\n",
    "\n",
    "        Inputs:\n",
    "        - X: A 2D numpy array of shape (n_samples, n_features) representing the test data.\n",
    "\n",
    "        Outputs:\n",
    "        - A 1D numpy array of shape (n_samples,) containing the predicted class labels for each\n",
    "          test sample.\n",
    "        \"\"\"\n",
    "        y_pred = []\n",
    "        for x in X:\n",
    "            posteriors = []\n",
    "            for cls in self.classes:\n",
    "                prior = np.log(self.priors[cls])\n",
    "                posterior = np.sum(np.log(self.gaussian_pdf(cls, x)))\n",
    "                posterior += prior\n",
    "                posteriors.append(posterior)\n",
    "            y_pred.append(self.classes[np.argmax(posteriors)])\n",
    "        return np.array(y_pred)"
   ]
  },
  {
   "cell_type": "markdown",
   "metadata": {
    "id": "LPWNCqf6AFGl"
   },
   "source": [
    "## Task 2: Train Naive Bayes Model from Scratch (2 point)\n",
    "Instantiate the NaiveBayesClassifier class and fit it to the training data."
   ]
  },
  {
   "cell_type": "code",
   "execution_count": 10,
   "metadata": {
    "id": "sbcCDjkQAFGl"
   },
   "outputs": [],
   "source": [
    "naive_bayes = NaiveBayesClassifier()\n",
    "naive_bayes.fit(X_train, y_train)"
   ]
  },
  {
   "cell_type": "markdown",
   "metadata": {
    "id": "beC0aQ0NAFGm"
   },
   "source": [
    "## Task 3: Train Naive Bayes Model Using scikit-learn (5 point)\n",
    "Utilize the [Naive Bayes class from scikit-learn](https://scikit-learn.org/stable/modules/naive_bayes.html) to train a Naive Bayes model on the same dataset."
   ]
  },
  {
   "cell_type": "code",
   "execution_count": 11,
   "metadata": {
    "colab": {
     "base_uri": "https://localhost:8080/",
     "height": 74
    },
    "id": "X8ZfPQB0AFGm",
    "outputId": "c53a0598-ffb2-4d32-b8f6-7336b6f82153"
   },
   "outputs": [
    {
     "data": {
      "text/html": [
       "<style>#sk-container-id-1 {color: black;}#sk-container-id-1 pre{padding: 0;}#sk-container-id-1 div.sk-toggleable {background-color: white;}#sk-container-id-1 label.sk-toggleable__label {cursor: pointer;display: block;width: 100%;margin-bottom: 0;padding: 0.3em;box-sizing: border-box;text-align: center;}#sk-container-id-1 label.sk-toggleable__label-arrow:before {content: \"▸\";float: left;margin-right: 0.25em;color: #696969;}#sk-container-id-1 label.sk-toggleable__label-arrow:hover:before {color: black;}#sk-container-id-1 div.sk-estimator:hover label.sk-toggleable__label-arrow:before {color: black;}#sk-container-id-1 div.sk-toggleable__content {max-height: 0;max-width: 0;overflow: hidden;text-align: left;background-color: #f0f8ff;}#sk-container-id-1 div.sk-toggleable__content pre {margin: 0.2em;color: black;border-radius: 0.25em;background-color: #f0f8ff;}#sk-container-id-1 input.sk-toggleable__control:checked~div.sk-toggleable__content {max-height: 200px;max-width: 100%;overflow: auto;}#sk-container-id-1 input.sk-toggleable__control:checked~label.sk-toggleable__label-arrow:before {content: \"▾\";}#sk-container-id-1 div.sk-estimator input.sk-toggleable__control:checked~label.sk-toggleable__label {background-color: #d4ebff;}#sk-container-id-1 div.sk-label input.sk-toggleable__control:checked~label.sk-toggleable__label {background-color: #d4ebff;}#sk-container-id-1 input.sk-hidden--visually {border: 0;clip: rect(1px 1px 1px 1px);clip: rect(1px, 1px, 1px, 1px);height: 1px;margin: -1px;overflow: hidden;padding: 0;position: absolute;width: 1px;}#sk-container-id-1 div.sk-estimator {font-family: monospace;background-color: #f0f8ff;border: 1px dotted black;border-radius: 0.25em;box-sizing: border-box;margin-bottom: 0.5em;}#sk-container-id-1 div.sk-estimator:hover {background-color: #d4ebff;}#sk-container-id-1 div.sk-parallel-item::after {content: \"\";width: 100%;border-bottom: 1px solid gray;flex-grow: 1;}#sk-container-id-1 div.sk-label:hover label.sk-toggleable__label {background-color: #d4ebff;}#sk-container-id-1 div.sk-serial::before {content: \"\";position: absolute;border-left: 1px solid gray;box-sizing: border-box;top: 0;bottom: 0;left: 50%;z-index: 0;}#sk-container-id-1 div.sk-serial {display: flex;flex-direction: column;align-items: center;background-color: white;padding-right: 0.2em;padding-left: 0.2em;position: relative;}#sk-container-id-1 div.sk-item {position: relative;z-index: 1;}#sk-container-id-1 div.sk-parallel {display: flex;align-items: stretch;justify-content: center;background-color: white;position: relative;}#sk-container-id-1 div.sk-item::before, #sk-container-id-1 div.sk-parallel-item::before {content: \"\";position: absolute;border-left: 1px solid gray;box-sizing: border-box;top: 0;bottom: 0;left: 50%;z-index: -1;}#sk-container-id-1 div.sk-parallel-item {display: flex;flex-direction: column;z-index: 1;position: relative;background-color: white;}#sk-container-id-1 div.sk-parallel-item:first-child::after {align-self: flex-end;width: 50%;}#sk-container-id-1 div.sk-parallel-item:last-child::after {align-self: flex-start;width: 50%;}#sk-container-id-1 div.sk-parallel-item:only-child::after {width: 0;}#sk-container-id-1 div.sk-dashed-wrapped {border: 1px dashed gray;margin: 0 0.4em 0.5em 0.4em;box-sizing: border-box;padding-bottom: 0.4em;background-color: white;}#sk-container-id-1 div.sk-label label {font-family: monospace;font-weight: bold;display: inline-block;line-height: 1.2em;}#sk-container-id-1 div.sk-label-container {text-align: center;}#sk-container-id-1 div.sk-container {/* jupyter's `normalize.less` sets `[hidden] { display: none; }` but bootstrap.min.css set `[hidden] { display: none !important; }` so we also need the `!important` here to be able to override the default hidden behavior on the sphinx rendered scikit-learn.org. See: https://github.com/scikit-learn/scikit-learn/issues/21755 */display: inline-block !important;position: relative;}#sk-container-id-1 div.sk-text-repr-fallback {display: none;}</style><div id=\"sk-container-id-1\" class=\"sk-top-container\"><div class=\"sk-text-repr-fallback\"><pre>GaussianNB()</pre><b>In a Jupyter environment, please rerun this cell to show the HTML representation or trust the notebook. <br />On GitHub, the HTML representation is unable to render, please try loading this page with nbviewer.org.</b></div><div class=\"sk-container\" hidden><div class=\"sk-item\"><div class=\"sk-estimator sk-toggleable\"><input class=\"sk-toggleable__control sk-hidden--visually\" id=\"sk-estimator-id-1\" type=\"checkbox\" checked><label for=\"sk-estimator-id-1\" class=\"sk-toggleable__label sk-toggleable__label-arrow\">GaussianNB</label><div class=\"sk-toggleable__content\"><pre>GaussianNB()</pre></div></div></div></div></div>"
      ],
      "text/plain": [
       "GaussianNB()"
      ]
     },
     "execution_count": 11,
     "metadata": {},
     "output_type": "execute_result"
    }
   ],
   "source": [
    "from sklearn.naive_bayes import GaussianNB\n",
    "\n",
    "naive_bayes2 = GaussianNB()\n",
    "naive_bayes2.fit(X_train, y_train)"
   ]
  },
  {
   "cell_type": "markdown",
   "metadata": {
    "id": "NCNLg0oBAFGm"
   },
   "source": [
    "## Task 4: Evaluate and Compare Both Models (3 point)\n",
    "Evaluate both the custom-built Naive Bayes model and the scikit-learn model. The primary metric for comparison is accuracy, which is sufficient for earning full points on this task. Optionally, you can also use a [confusion matrix](https://scikit-learn.org/stable/auto_examples/model_selection/plot_confusion_matrix.html) to further analyze and compare their performance in terms of [accuracy, precision, recall, and F1 score](https://www.labelf.ai/blog/what-is-accuracy-precision-recall-and-f1-score).\n",
    "Please note that while the main focus is on comparing the accuracy, the output you see in this cell will be a confusion matrix if you choose to include additional metrics. This is encouraged as it provides a more comprehensive view of model performance but is not mandatory for meeting the basic requirements of the task."
   ]
  },
  {
   "cell_type": "code",
   "execution_count": 12,
   "metadata": {
    "colab": {
     "base_uri": "https://localhost:8080/"
    },
    "id": "I9tP6dvYAFGn",
    "outputId": "a39b86ae-90c2-4020-cb60-1e8b669b647c"
   },
   "outputs": [
    {
     "name": "stdout",
     "output_type": "stream",
     "text": [
      "[[10289  1456]\n",
      " [ 1575  7461]]\n",
      "              precision    recall  f1-score   support\n",
      "\n",
      "           0       0.87      0.88      0.87     11745\n",
      "           1       0.84      0.83      0.83      9036\n",
      "\n",
      "    accuracy                           0.85     20781\n",
      "   macro avg       0.85      0.85      0.85     20781\n",
      "weighted avg       0.85      0.85      0.85     20781\n",
      "\n",
      "[[10268  1477]\n",
      " [ 1564  7472]]\n",
      "              precision    recall  f1-score   support\n",
      "\n",
      "           0       0.87      0.87      0.87     11745\n",
      "           1       0.83      0.83      0.83      9036\n",
      "\n",
      "    accuracy                           0.85     20781\n",
      "   macro avg       0.85      0.85      0.85     20781\n",
      "weighted avg       0.85      0.85      0.85     20781\n",
      "\n"
     ]
    }
   ],
   "source": [
    "y_pred = naive_bayes.predict(X_test)\n",
    "# y_pred = np.array(['satisfied' if y == 1 else 'neutral or dissatisfied' for y in y_pred])\n",
    "print(confusion_matrix(y_test, y_pred))\n",
    "print(classification_report(y_test, y_pred))\n",
    "\n",
    "\n",
    "y_pred2 = naive_bayes2.predict(X_test)\n",
    "# y_pred2 = np.array(['satisfied' if y == 1 else 'neutral or dissatisfied' for y in y_pred2])\n",
    "print(confusion_matrix(y_test, y_pred2))\n",
    "print(classification_report(y_test, y_pred2))"
   ]
  },
  {
   "cell_type": "markdown",
   "metadata": {
    "id": "j2TGf53hAFGn"
   },
   "source": [
    "# Decision tree Classifier (25 point)"
   ]
  },
  {
   "cell_type": "markdown",
   "metadata": {
    "id": "xB8t3P6aAFGn"
   },
   "source": [
    "## Task 1: Implement Decision Tree Classifier from Scratch (15 point)\n",
    "In this task, you are to implement a [Decision Tree Classifier](https://en.wikipedia.org/wiki/Decision_tree) entirely from scratch. The core framework of the classifier has been outlined for you, including several helper methods that you might find useful. These methods are intended to guide your implementation and provide a structured way to approach the problem.You are not strictly bound to the provided private methods (`_compute_entropy`, `_split_data`, etc.). If you find a more efficient or clearer way to implement these functionalities, you are encouraged to adjust the methods accordingly.\n",
    "\n",
    "[This video](https://www.youtube.com/watch?v=_L39rN6gz7Y) will be helpful too."
   ]
  },
  {
   "cell_type": "code",
   "execution_count": 13,
   "metadata": {
    "id": "b-tvKk8zAFGo"
   },
   "outputs": [],
   "source": [
    "class MyDecisionTreeClassifier:\n",
    "    def __init__(self, max_depth=None):\n",
    "        \"\"\"\n",
    "        Initialize the Decision Tree Classifier with an optional maximum depth.\n",
    "        Inputs:\n",
    "        - max_depth: The maximum depth of the tree. If None, the tree can grow until all leaves are pure or other stopping criteria are met.\n",
    "        Outputs:\n",
    "        An instance of the DecisionTreeClassifier with initial settings.\n",
    "        \"\"\"\n",
    "        self.max_depth = max_depth\n",
    "        self.tree = None\n",
    "        \n",
    "\n",
    "    def fit(self, X, y):\n",
    "        \"\"\"\n",
    "        Fit the decision tree classifier using the training data X and labels y.\n",
    "        Inputs:\n",
    "        - X: 2D numpy array of shape (n_samples, n_features) representing the feature data.\n",
    "        - y: 1D numpy array of shape (n_samples,) representing the labels.\n",
    "        Outputs:\n",
    "        None, but this method updates the classifier's tree structure based on the training data.\n",
    "        \"\"\"\n",
    "        self.tree = self._build_tree(X, y, depth=0)\n",
    "        \n",
    "\n",
    "    def predict(self, X):\n",
    "        \"\"\"\n",
    "        Predict the class labels for the input features X.\n",
    "        Inputs:\n",
    "        - X: 2D numpy array of shape (n_samples, n_features) representing the feature data.\n",
    "        Outputs:\n",
    "        - predictions: 1D numpy array of shape (n_samples,) containing the predicted class labels.\n",
    "        \"\"\"\n",
    "        return np.array([self._traverse_tree(sample, self.tree) for sample in X])\n",
    "    \n",
    "\n",
    "    def _compute_entropy(self, y):\n",
    "        \"\"\"\n",
    "        Compute the entropy of label array y.\n",
    "        Inputs:\n",
    "        - y: 1D numpy array of class labels.\n",
    "        Outputs:\n",
    "        - entropy: A float representing the entropy of the label distribution.\n",
    "        \"\"\"\n",
    "        labels, counts = np.unique(y, return_counts=True)\n",
    "        probabilities = counts / len(y)\n",
    "        entropy = -np.sum(probabilities * np.log2(probabilities))\n",
    "        return entropy\n",
    "    \n",
    "\n",
    "    def _split_data(self, X, y, feature_index, threshold):\n",
    "        \"\"\"\n",
    "        Split the data into left and right branches based on the given feature index and threshold.\n",
    "        Inputs:\n",
    "        - X: 2D numpy array of feature data.\n",
    "        - y: 1D numpy array of labels.\n",
    "        - feature_index: Index of the feature used for splitting the data.\n",
    "        - threshold: The value to split the feature upon.\n",
    "        Outputs:\n",
    "        - X_left, X_right, y_left, y_right: Arrays representing the split of data and labels.\n",
    "        \"\"\"\n",
    "        left_condition = X[:, feature_index] <= threshold\n",
    "        right_condition = X[:, feature_index] > threshold\n",
    "        return X[left_condition], X[right_condition], y[left_condition], y[right_condition]\n",
    "    \n",
    "\n",
    "    def _find_best_split(self, X, y):\n",
    "        \"\"\"\n",
    "        Find the best split for the decision tree based on entropy.\n",
    "        Inputs:\n",
    "        - X: 2D numpy array of feature data.\n",
    "        - y: 1D numpy array of labels.\n",
    "        Outputs:\n",
    "        - best_feature_index, best_threshold: Indices and thresholds that give the best split based on entropy.\n",
    "        \"\"\"\n",
    "        best_feature_index = None\n",
    "        best_threshold = None\n",
    "        best_IG = -1\n",
    "        current_entropy = self._compute_entropy(y)\n",
    "\n",
    "        n_samples, n_features = X.shape\n",
    "        for feature_index in range(n_features):\n",
    "            possible_thresholds = np.unique(X[:, feature_index])\n",
    "            for threshold in possible_thresholds:\n",
    "                X_left, X_right, y_left, y_right = self._split_data(X, y, feature_index, threshold)\n",
    "                if len(y_left) > 0 and len(y_right) > 0:\n",
    "                    p_left = len(y_left) / n_samples\n",
    "                    p_right = len(y_right) / n_samples\n",
    "                    entropy_left = self._compute_entropy(y_left)\n",
    "                    entropy_right = self._compute_entropy(y_right)\n",
    "                    IG = current_entropy - (p_left * entropy_left + p_right * entropy_right)\n",
    "\n",
    "                    if IG > best_IG:\n",
    "                        best_IG = IG\n",
    "                        best_feature_index = feature_index\n",
    "                        best_threshold = threshold\n",
    "\n",
    "        return best_feature_index, best_threshold\n",
    "    \n",
    "\n",
    "    def _build_tree(self, X, y, depth):\n",
    "        \"\"\"\n",
    "        Recursively build the decision tree.\n",
    "        Inputs:\n",
    "        - X: 2D numpy array of feature data.\n",
    "        - y: 1D numpy array of labels.\n",
    "        - depth: Current depth of the tree.\n",
    "        Outputs:\n",
    "        - A tree represented as a dictionary.\n",
    "        \"\"\"\n",
    "        n_samples, n_features = X.shape\n",
    "        labels = np.unique(y)\n",
    "\n",
    "        if len(labels) == 1:\n",
    "            return labels[0]\n",
    "\n",
    "        if self.max_depth is not None and depth >= self.max_depth:\n",
    "            return st.mode(y)\n",
    "\n",
    "        best_feature_index, best_threshold = self._find_best_split(X, y)\n",
    "        if best_feature_index is None:\n",
    "            return st.mode(y)\n",
    "\n",
    "        X_left, X_right, y_left, y_right = self._split_data(X, y, best_feature_index, best_threshold)\n",
    "        left_tree = self._build_tree(X_left, y_left, depth + 1)\n",
    "        right_tree = self._build_tree(X_right, y_right, depth + 1)\n",
    "\n",
    "        return {\n",
    "            'feature_index': best_feature_index,\n",
    "            'threshold': best_threshold,\n",
    "            'left': left_tree,\n",
    "            'right': right_tree\n",
    "        }\n",
    "    \n",
    "    \n",
    "    def _traverse_tree(self, sample, node):\n",
    "        \"\"\"\n",
    "        Predict the class label for a single sample using the decision tree.\n",
    "\n",
    "        Inputs:\n",
    "        - sample: 1D numpy array representing a single sample's feature values.\n",
    "        - tree: The decision tree.\n",
    "\n",
    "        Outputs:\n",
    "        - The predicted class label for the sample.\n",
    "        \"\"\"\n",
    "        if isinstance(node, dict):\n",
    "            feature_index = node['feature_index']\n",
    "            threshold = node['threshold']\n",
    "            if sample[feature_index] <= threshold:\n",
    "                return self._traverse_tree(sample, node['left'])\n",
    "            else:\n",
    "                return self._traverse_tree(sample, node['right'])\n",
    "        else:\n",
    "            return node"
   ]
  },
  {
   "cell_type": "markdown",
   "metadata": {
    "id": "-XnCxGvPAFGo"
   },
   "source": [
    "## Task 2: Train Decision Tree Model from Scratch (2 point)\n",
    "Instantiate the DecisionTree class and fit it to the training data."
   ]
  },
  {
   "cell_type": "code",
   "execution_count": 14,
   "metadata": {
    "id": "-iaxa-YTAFGp"
   },
   "outputs": [],
   "source": [
    "decision_tree = MyDecisionTreeClassifier(max_depth=5)\n",
    "decision_tree.fit(X_train, y_train)"
   ]
  },
  {
   "cell_type": "markdown",
   "metadata": {
    "id": "n9KybqZBAFGp"
   },
   "source": [
    "## Task 3: Train Decision Tree Model Using scikit-learn (5 point)\n",
    "Utilize the [Decision Tree class from scikit-learn](https://scikit-learn.org/stable/modules/tree.html) to train a Decision Tree model on the same dataset."
   ]
  },
  {
   "cell_type": "code",
   "execution_count": 15,
   "metadata": {
    "colab": {
     "base_uri": "https://localhost:8080/",
     "height": 74
    },
    "id": "_nd9orWpAFGq",
    "outputId": "f4ac55b6-2c3c-47e2-b326-7b8b935ebe18"
   },
   "outputs": [
    {
     "data": {
      "text/html": [
       "<style>#sk-container-id-2 {color: black;}#sk-container-id-2 pre{padding: 0;}#sk-container-id-2 div.sk-toggleable {background-color: white;}#sk-container-id-2 label.sk-toggleable__label {cursor: pointer;display: block;width: 100%;margin-bottom: 0;padding: 0.3em;box-sizing: border-box;text-align: center;}#sk-container-id-2 label.sk-toggleable__label-arrow:before {content: \"▸\";float: left;margin-right: 0.25em;color: #696969;}#sk-container-id-2 label.sk-toggleable__label-arrow:hover:before {color: black;}#sk-container-id-2 div.sk-estimator:hover label.sk-toggleable__label-arrow:before {color: black;}#sk-container-id-2 div.sk-toggleable__content {max-height: 0;max-width: 0;overflow: hidden;text-align: left;background-color: #f0f8ff;}#sk-container-id-2 div.sk-toggleable__content pre {margin: 0.2em;color: black;border-radius: 0.25em;background-color: #f0f8ff;}#sk-container-id-2 input.sk-toggleable__control:checked~div.sk-toggleable__content {max-height: 200px;max-width: 100%;overflow: auto;}#sk-container-id-2 input.sk-toggleable__control:checked~label.sk-toggleable__label-arrow:before {content: \"▾\";}#sk-container-id-2 div.sk-estimator input.sk-toggleable__control:checked~label.sk-toggleable__label {background-color: #d4ebff;}#sk-container-id-2 div.sk-label input.sk-toggleable__control:checked~label.sk-toggleable__label {background-color: #d4ebff;}#sk-container-id-2 input.sk-hidden--visually {border: 0;clip: rect(1px 1px 1px 1px);clip: rect(1px, 1px, 1px, 1px);height: 1px;margin: -1px;overflow: hidden;padding: 0;position: absolute;width: 1px;}#sk-container-id-2 div.sk-estimator {font-family: monospace;background-color: #f0f8ff;border: 1px dotted black;border-radius: 0.25em;box-sizing: border-box;margin-bottom: 0.5em;}#sk-container-id-2 div.sk-estimator:hover {background-color: #d4ebff;}#sk-container-id-2 div.sk-parallel-item::after {content: \"\";width: 100%;border-bottom: 1px solid gray;flex-grow: 1;}#sk-container-id-2 div.sk-label:hover label.sk-toggleable__label {background-color: #d4ebff;}#sk-container-id-2 div.sk-serial::before {content: \"\";position: absolute;border-left: 1px solid gray;box-sizing: border-box;top: 0;bottom: 0;left: 50%;z-index: 0;}#sk-container-id-2 div.sk-serial {display: flex;flex-direction: column;align-items: center;background-color: white;padding-right: 0.2em;padding-left: 0.2em;position: relative;}#sk-container-id-2 div.sk-item {position: relative;z-index: 1;}#sk-container-id-2 div.sk-parallel {display: flex;align-items: stretch;justify-content: center;background-color: white;position: relative;}#sk-container-id-2 div.sk-item::before, #sk-container-id-2 div.sk-parallel-item::before {content: \"\";position: absolute;border-left: 1px solid gray;box-sizing: border-box;top: 0;bottom: 0;left: 50%;z-index: -1;}#sk-container-id-2 div.sk-parallel-item {display: flex;flex-direction: column;z-index: 1;position: relative;background-color: white;}#sk-container-id-2 div.sk-parallel-item:first-child::after {align-self: flex-end;width: 50%;}#sk-container-id-2 div.sk-parallel-item:last-child::after {align-self: flex-start;width: 50%;}#sk-container-id-2 div.sk-parallel-item:only-child::after {width: 0;}#sk-container-id-2 div.sk-dashed-wrapped {border: 1px dashed gray;margin: 0 0.4em 0.5em 0.4em;box-sizing: border-box;padding-bottom: 0.4em;background-color: white;}#sk-container-id-2 div.sk-label label {font-family: monospace;font-weight: bold;display: inline-block;line-height: 1.2em;}#sk-container-id-2 div.sk-label-container {text-align: center;}#sk-container-id-2 div.sk-container {/* jupyter's `normalize.less` sets `[hidden] { display: none; }` but bootstrap.min.css set `[hidden] { display: none !important; }` so we also need the `!important` here to be able to override the default hidden behavior on the sphinx rendered scikit-learn.org. See: https://github.com/scikit-learn/scikit-learn/issues/21755 */display: inline-block !important;position: relative;}#sk-container-id-2 div.sk-text-repr-fallback {display: none;}</style><div id=\"sk-container-id-2\" class=\"sk-top-container\"><div class=\"sk-text-repr-fallback\"><pre>DecisionTreeClassifier(max_depth=5)</pre><b>In a Jupyter environment, please rerun this cell to show the HTML representation or trust the notebook. <br />On GitHub, the HTML representation is unable to render, please try loading this page with nbviewer.org.</b></div><div class=\"sk-container\" hidden><div class=\"sk-item\"><div class=\"sk-estimator sk-toggleable\"><input class=\"sk-toggleable__control sk-hidden--visually\" id=\"sk-estimator-id-2\" type=\"checkbox\" checked><label for=\"sk-estimator-id-2\" class=\"sk-toggleable__label sk-toggleable__label-arrow\">DecisionTreeClassifier</label><div class=\"sk-toggleable__content\"><pre>DecisionTreeClassifier(max_depth=5)</pre></div></div></div></div></div>"
      ],
      "text/plain": [
       "DecisionTreeClassifier(max_depth=5)"
      ]
     },
     "execution_count": 15,
     "metadata": {},
     "output_type": "execute_result"
    }
   ],
   "source": [
    "from sklearn.tree import DecisionTreeClassifier\n",
    "\n",
    "decision_tree2 = DecisionTreeClassifier(max_depth=5)\n",
    "decision_tree2.fit(X_train, y_train)"
   ]
  },
  {
   "cell_type": "markdown",
   "metadata": {
    "id": "HW2Qek2lAFGr"
   },
   "source": [
    "## Task 4: Evaluate and Compare Both Models (3 points)\n",
    "\n",
    "Evaluate both the custom-built Decision Tree model and the scikit-learn model. The primary metric for comparison is accuracy, which is sufficient for earning full points on this task. Optionally, you can also use a confusion matrix to further analyze and compare their performance in terms of accuracy, precision, recall, and F1 score.\n",
    "Please note that while the main focus is on comparing the accuracy, the output you see in this cell will be a confusion matrix if you choose to include additional metrics. This is encouraged as it provides a more comprehensive view of model performance but is not mandatory for meeting the basic requirements of the task.\n"
   ]
  },
  {
   "cell_type": "code",
   "execution_count": 16,
   "metadata": {
    "colab": {
     "base_uri": "https://localhost:8080/"
    },
    "id": "keaZOybpAFGr",
    "outputId": "88860721-e70b-4722-c681-b69a2509004f"
   },
   "outputs": [
    {
     "name": "stdout",
     "output_type": "stream",
     "text": [
      "[[11399   346]\n",
      " [ 1625  7411]]\n",
      "              precision    recall  f1-score   support\n",
      "\n",
      "           0       0.88      0.97      0.92     11745\n",
      "           1       0.96      0.82      0.88      9036\n",
      "\n",
      "    accuracy                           0.91     20781\n",
      "   macro avg       0.92      0.90      0.90     20781\n",
      "weighted avg       0.91      0.91      0.90     20781\n",
      "\n",
      "[[11245   500]\n",
      " [ 1509  7527]]\n",
      "              precision    recall  f1-score   support\n",
      "\n",
      "           0       0.88      0.96      0.92     11745\n",
      "           1       0.94      0.83      0.88      9036\n",
      "\n",
      "    accuracy                           0.90     20781\n",
      "   macro avg       0.91      0.90      0.90     20781\n",
      "weighted avg       0.91      0.90      0.90     20781\n",
      "\n"
     ]
    }
   ],
   "source": [
    "y_pred = decision_tree.predict(X_test)\n",
    "# y_pred = np.array(['satisfied' if y == 1 else 'neutral or dissatisfied' for y in y_pred])\n",
    "print(confusion_matrix(y_test, y_pred))\n",
    "print(classification_report(y_test, y_pred))\n",
    "\n",
    "\n",
    "y_pred2 = decision_tree2.predict(X_test)\n",
    "# y_pred2 = np.array(['satisfied' if y == 1 else 'neutral or dissatisfied' for y in y_pred2])\n",
    "print(confusion_matrix(y_test, y_pred2))\n",
    "print(classification_report(y_test, y_pred2))"
   ]
  }
 ],
 "metadata": {
  "colab": {
   "provenance": []
  },
  "kaggle": {
   "accelerator": "none",
   "dataSources": [],
   "dockerImageVersionId": 30673,
   "isGpuEnabled": false,
   "isInternetEnabled": true,
   "language": "python",
   "sourceType": "notebook"
  },
  "kernelspec": {
   "display_name": "Python 3 (ipykernel)",
   "language": "python",
   "name": "python3"
  },
  "language_info": {
   "codemirror_mode": {
    "name": "ipython",
    "version": 3
   },
   "file_extension": ".py",
   "mimetype": "text/x-python",
   "name": "python",
   "nbconvert_exporter": "python",
   "pygments_lexer": "ipython3",
   "version": "3.11.1"
  }
 },
 "nbformat": 4,
 "nbformat_minor": 1
}
