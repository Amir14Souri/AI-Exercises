{
 "cells": [
  {
   "cell_type": "markdown",
   "metadata": {
    "id": "lGYYFKeJ1GMj"
   },
   "source": [
    "<img src='http://www-scf.usc.edu/~ghasemig/images/sharif.png' alt=\"SUT logo\" width=500 height=300 align=center class=\"saturate\" >\n",
    "\n",
    "<br>\n",
    "<font>\n",
    "<div dir=ltr align=center>\n",
    "<font color=0F5298 size=7>\n",
    "    Artificial Intelligence <br>\n",
    "<font color=2565AE size=5>\n",
    "    Computer Engineering Department <br>\n",
    "    Spring 2024<br>\n",
    "<font color=3C99D size=5>\n",
    "    Practical Assignment 3 - Heart Disease Prediction using Hidden Markov Models  <br>\n",
    "<font color=696880 size=4>\n",
    "Omid Daliran\n"
   ]
  },
  {
   "cell_type": "markdown",
   "metadata": {
    "id": "mKqvyyp3TIzP"
   },
   "source": [
    "# Personal Data"
   ]
  },
  {
   "cell_type": "code",
   "execution_count": 1,
   "metadata": {
    "id": "0geUs2cxytvu"
   },
   "outputs": [],
   "source": [
    "# Set your student number and name\n",
    "student_number = '401106182'\n",
    "Name = 'Amirhossein'\n",
    "Last_Name = 'Souri'"
   ]
  },
  {
   "cell_type": "markdown",
   "metadata": {
    "id": "7t1ZoXu-0BHq"
   },
   "source": [
    "# Libraries"
   ]
  },
  {
   "cell_type": "code",
   "execution_count": 2,
   "metadata": {
    "id": "ROZMme5FrlVL"
   },
   "outputs": [],
   "source": [
    "import csv\n",
    "import numpy as np\n",
    "import pandas as pd\n",
    "import copy"
   ]
  },
  {
   "cell_type": "markdown",
   "metadata": {
    "id": "22cAp2xx0asS"
   },
   "source": [
    "# Q2: Heart Disease Prediction using Hidden Markov  (100 Points)"
   ]
  },
  {
   "cell_type": "markdown",
   "metadata": {
    "id": "HCCMQjKH1sWi"
   },
   "source": [
    "# Introduction\n",
    "\n",
    "\n",
    "In this notebook, we explore the application of Hidden Markov Models (HMM) in predicting heart disease risk based on DNA sequences. Heart disease is a prevalent and life-threatening condition, and early detection is crucial for effective management. By leveraging HMM, we aim to identify regions within DNA sequences associated with high and low GC content, which have been linked to heart disease susceptibility.\n"
   ]
  },
  {
   "cell_type": "markdown",
   "metadata": {
    "id": "tsYpNuyH4Cu-"
   },
   "source": [
    "# Hidden Markov Models (HMM) (40 points)\n",
    "\n",
    "Hidden Markov Models are probabilistic models widely used in sequential data analysis, particularly in bioinformatics. They are characterized by states, transitions between states, and emission probabilities associated with each state. In our context, the states represent the underlying biological characteristics of DNA sequences, while the emission probabilities signify the likelihood of observing specific nucleotides given each state.\n",
    "\n",
    "To facilitate our heart disease classification, we'll implement a custom Hidden Markov Model (HMM) class in Python. This class will include the Viterbi and Forward algorithms."
   ]
  },
  {
   "cell_type": "code",
   "execution_count": 3,
   "metadata": {
    "id": "UHTspQ58UDSs"
   },
   "outputs": [],
   "source": [
    "class HMM:\n",
    "    def __init__(self, states: list, emissions: dict, start_probabilities: list, transition_probabilities: list):\n",
    "        self.states = states\n",
    "        self.state_labels = {i: state for i, state in enumerate(self.states)}\n",
    "        self.emissions = emissions\n",
    "        self.start_probabilities = start_probabilities\n",
    "        self.transition_probabilities = transition_probabilities\n",
    "\n",
    "    def viterbi(self, sequence: str) -> tuple:\n",
    "        path, max_probability = [], 0\n",
    "        \n",
    "        path, probs = self.recursive_viterbi(sequence)\n",
    "        path = ''.join(path)\n",
    "        max_probability = max(probs)\n",
    "\n",
    "        return path, max_probability\n",
    "    \n",
    "    def recursive_viterbi(self, sequence: str) -> tuple:\n",
    "        path, probs = [], []\n",
    "        n = len(sequence) - 1\n",
    "        \n",
    "        if n == 0:\n",
    "            for i in range(len(self.states)):\n",
    "                probs.append(self.emissions[sequence[0]][i] * self.start_probabilities[i])\n",
    "            path.append(self.state_labels[np.argmax(np.array(probs))])\n",
    "            return path, probs\n",
    "        \n",
    "        path, previous_probs = self.recursive_viterbi(sequence[:-1])\n",
    "        for i in range(len(self.states)):\n",
    "            prob = self.emissions[sequence[n]][i]\n",
    "            max_value = -1\n",
    "            for j in range(len(self.states)):\n",
    "                value = previous_probs[j] * self.transition_probabilities[j][i]\n",
    "                if value > max_value:\n",
    "                    max_value = value\n",
    "            prob *= max_value\n",
    "            probs.append(prob)\n",
    "            \n",
    "        path.append(self.state_labels[np.argmax(np.array(probs))])\n",
    "        \n",
    "        return path, probs\n",
    "\n",
    "    \n",
    "    def forward_algorithm(self, sequence: str) -> dict:\n",
    "        probs = []\n",
    "        \n",
    "        n = len(sequence) - 1\n",
    "        \n",
    "        if n == 0:\n",
    "            for i in range(len(self.states)):\n",
    "                probs.append(self.emissions[sequence[0]][i] * self.start_probabilities[i])\n",
    "            probability_last_states = {self.states[i]: probs[i] for i in range(len(self.states))}\n",
    "            return probability_last_states\n",
    "        \n",
    "        previous_probs = list(self.forward_algorithm(sequence[:-1]).values())\n",
    "        for i in range(len(self.states)):\n",
    "            prob = self.emissions[sequence[n]][i]\n",
    "            sum_value = 0\n",
    "            for j in range(len(self.states)):\n",
    "                sum_value += previous_probs[j] * self.transition_probabilities[j][i]\n",
    "            prob *= sum_value\n",
    "            probs.append(prob)\n",
    "            \n",
    "        denumerator = sum(probs)\n",
    "        for i in range(len(self.states)):\n",
    "            probs[i] /= denumerator\n",
    "            \n",
    "        probability_last_states = {self.states[i]: probs[i] for i in range(len(self.states))}\n",
    "\n",
    "        return probability_last_states"
   ]
  },
  {
   "cell_type": "markdown",
   "metadata": {
    "id": "9isx2p9kFT4o"
   },
   "source": [
    "GC content, the proportion of guanine (G) and cytosine (C) nucleotides in a DNA sequence, is a fundamental genomic feature. Variations in GC content have been implicated in various biological processes, including gene regulation and disease susceptibility. Specifically, high GC content (H) regions are associated with increased gene expression and potential regulatory elements, while low GC content (L) regions may indicate structural elements or regions prone to mutations. The transition and emission and start probabilities are as shown in the image below:\n",
    "\n",
    "![Probabilities](Probabilities.png)"
   ]
  },
  {
   "cell_type": "code",
   "execution_count": 4,
   "metadata": {
    "colab": {
     "base_uri": "https://localhost:8080/"
    },
    "executionInfo": {
     "elapsed": 375,
     "status": "ok",
     "timestamp": 1710794899166,
     "user": {
      "displayName": "Omid Daliran",
      "userId": "14293939971066168269"
     },
     "user_tz": -210
    },
    "id": "9CcWsAvQXjJ_",
    "outputId": "bd0099ba-4013-4a4b-a0d6-f2ce42b136f7"
   },
   "outputs": [
    {
     "name": "stdout",
     "output_type": "stream",
     "text": [
      "Viterbi Path: LLHHHHHLLHHLLHHLLLHHHHL\n",
      "Max Probability (Viterbi): 1.1438396227480495e-19\n",
      "Probability (Forward Algorithm): {'H': 0.35818008853498684, 'L': 0.6418199114650132}\n"
     ]
    }
   ],
   "source": [
    "# TODO: Complete and run this code to check your implementation\n",
    "\n",
    "states = ['H', 'L']\n",
    "emissions = {'A': [0.2, 0.3], 'C': [0.3, 0.2], 'G': [0.3, 0.2], 'T': [0.2, 0.3]}\n",
    "start_probabilities = [0.5, 0.5]\n",
    "transition_probabilities = [[0.5, 0.5], [0.4, 0.6]]\n",
    "\n",
    "hmm = HMM(states, emissions, start_probabilities, transition_probabilities)\n",
    "\n",
    "# Example DNA sequence\n",
    "sequence = \"ATGCGCGATCGATCGAATCGCGT\"\n",
    "\n",
    "# Viterbi algorithm\n",
    "path, max_probability = hmm.viterbi(sequence)\n",
    "print(\"Viterbi Path:\", path)\n",
    "print(\"Max Probability (Viterbi):\", max_probability)\n",
    "\n",
    "# Forward algorithm\n",
    "probability = hmm.forward_algorithm(sequence)\n",
    "print(\"Probability (Forward Algorithm):\", probability)"
   ]
  },
  {
   "cell_type": "markdown",
   "metadata": {
    "id": "RE8zgAe07NnC"
   },
   "source": [
    "# Calculating Probabilities for Blood Type, Height, and Weight (10 points)\n",
    "\n",
    "After obtaining the sequence of H and L regions from the DNA using the Viterbi algorithm, we proceed to calculate the probabilities for other attributes such as blood type, height, weight, and the presence or absence of DCM (DCM, or Dilated Cardiomyopathy, is a heart condition characterized by the enlargement of the heart's left ventricle. It can lead to heart failure if not properly managed.) using the Forward algorithm. In this step, we aim to leverage the Hidden Markov Model (HMM) to infer these attributes based on the observed GC content sequence.\n",
    "\n",
    "\n",
    "We will use the functionality of the Forward algorithm to compute the probabilities associated with each possible state after observing the sequence.\n",
    "\n",
    "Attributes and Possible States:\n",
    "* Blood Type: O, A, B, AB\n",
    "* Height: 160 cm, 170 cm, 180 cm, 190 cm\n",
    "* Weight: 50 kg, 65 kg, 80 kg, 95 kg\n",
    "* DCM: Y (indicating presence) or N (indicating absence)\n"
   ]
  },
  {
   "cell_type": "markdown",
   "metadata": {},
   "source": [
    "### Attention:\n",
    "I have changed the format of emission dictionaries, in order to match them with my HMM Class implementation.\n",
    "\n",
    "**No data has been changed**"
   ]
  },
  {
   "cell_type": "code",
   "execution_count": 5,
   "metadata": {
    "id": "MKDBSoumfmb6"
   },
   "outputs": [],
   "source": [
    "def probabilities_from_sequence(sequence: str) -> tuple:\n",
    "\n",
    "    # Define the emission probabilities for each feature\n",
    "\n",
    "#     height_emissions = [{'H': 0.2, 'L': 0.8}, {'H': 0.3, 'L': 0.7},\n",
    "#                           {'H': 0.9, 'L': 0.1}, {'H': 0.8, 'L': 0.2}]\n",
    "\n",
    "#     weight_emissions = [{'H': 0.3, 'L': 0.7}, {'H': 0.1, 'L': 0.9},\n",
    "#                           {'H': 0.2, 'L': 0.8}, {'H': 0.7, 'L': 0.3}]\n",
    "\n",
    "#     blood_type_emissions = [{'H': 0.75, 'L': 0.25}, {'H': 0.8, 'L': 0.2},\n",
    "#                               {'H': 0.85, 'L': 0.15}, {'H': 0.7, 'L': 0.3}]\n",
    "    \n",
    "#     DCM_emissions = [{'H': 0.7, 'L': 0.3}, {'H': 0.6, 'L': 0.4}]\n",
    "    \n",
    "    height_emissions = {'H': [0.2, 0.3, 0.9, 0.8], 'L': [0.8, 0.7, 0.1, 0.2]}\n",
    "    weight_emissions = {'H': [0.3, 0.1, 0.2, 0.7], 'L': [0.7, 0.9, 0.8, 0.3]}\n",
    "    blood_type_emissions = {'H': [0.75, 0.8, 0.85, 0.7], 'L': [0.25, 0.2, 0.15, 0.3]}\n",
    "    DCM_emissions = {'H': [0.7, 0.6], 'L': [0.3, 0.4]}\n",
    "\n",
    "\n",
    "    # Define the transition probabilities for each feature\n",
    "    height_transition_probabilities = [[0.7, 0.2, 0.05, 0.05],\n",
    "                                       [0.1, 0.8, 0.05, 0.05],\n",
    "                                       [0.1, 0.1, 0.7, 0.1],\n",
    "                                       [0.1, 0.1, 0.1, 0.7]]\n",
    "    weight_transition_probabilities = [[0.7, 0.2, 0.05, 0.05],\n",
    "                                       [0.1, 0.8, 0.05, 0.05],\n",
    "                                       [0.1, 0.1, 0.7, 0.1],\n",
    "                                       [0.1, 0.1, 0.1, 0.7]]\n",
    "    blood_type_transition_probabilities = [[0.7, 0.2, 0.05, 0.05],\n",
    "                                           [0.1, 0.8, 0.05, 0.05],\n",
    "                                           [0.1, 0.1, 0.7, 0.1],\n",
    "                                           [0.1, 0.1, 0.1, 0.7]]\n",
    "    DCM_transition_probabilities = [[0.9, 0.1], [0.1, 0.9]]\n",
    "\n",
    "    # Define start probabilities for each state\n",
    "    height_start_probabilities = [0.1, 0.4, 0.4, 0.1]\n",
    "    weight_start_probabilities = [0.15, 0.35, 0.35, 0.15]\n",
    "    blood_type_start_probabilities = [0.1, 0.35, 0.35, 0.2]\n",
    "    DCM_start_probabilities = [0.25, 0.75]\n",
    "\n",
    "    height_probability_dic, weight_probability_dic, blood_type_probability_dic, DCM_probability_dic = None, None, None, None\n",
    "\n",
    "    height_hmm = HMM([160, 170, 180, 190], height_emissions,\n",
    "                     height_start_probabilities, height_transition_probabilities)\n",
    "    height_probability_dic = height_hmm.forward_algorithm(sequence)\n",
    "    \n",
    "    weight_hmm = HMM([50, 65, 80, 95], weight_emissions,\n",
    "                     weight_start_probabilities, weight_transition_probabilities)\n",
    "    weight_probability_dic = weight_hmm.forward_algorithm(sequence)\n",
    "    \n",
    "    blood_type_hmm = HMM(['O', 'A', 'B', 'AB'], blood_type_emissions,\n",
    "                     blood_type_start_probabilities, blood_type_transition_probabilities)\n",
    "    blood_type_probability_dic = blood_type_hmm.forward_algorithm(sequence)\n",
    "    \n",
    "    DCM_hmm = HMM(['Y', 'N'], DCM_emissions,\n",
    "                     DCM_start_probabilities, DCM_transition_probabilities)\n",
    "    DCM_probability_dic = DCM_hmm.forward_algorithm(sequence)\n",
    "\n",
    "    return height_probability_dic, weight_probability_dic, blood_type_probability_dic, DCM_probability_dic"
   ]
  },
  {
   "cell_type": "code",
   "execution_count": 6,
   "metadata": {
    "colab": {
     "base_uri": "https://localhost:8080/"
    },
    "executionInfo": {
     "elapsed": 354,
     "status": "ok",
     "timestamp": 1710794167707,
     "user": {
      "displayName": "Omid Daliran",
      "userId": "14293939971066168269"
     },
     "user_tz": -210
    },
    "id": "vwGQ9QSAhEl5",
    "outputId": "c44000d9-24c5-4968-daae-a493fb9e302f"
   },
   "outputs": [
    {
     "name": "stdout",
     "output_type": "stream",
     "text": [
      "Probability of height given sequence: {160: 0.3660593174871113, 170: 0.5760951509787053, 180: 0.015850353367627773, 190: 0.04199517816655549}\n",
      "Probability of weight given sequence: {50: 0.2845952908892867, 65: 0.42707075390249144, 80: 0.20957356322963908, 95: 0.07876039197858277}\n",
      "Probability of blood type given sequence: {'O': 0.29628284733090365, 'A': 0.3305080573190477, 'B': 0.08789883086305705, 'AB': 0.28531026448699165}\n",
      "Probability of DCM given sequence: {'Y': 0.32977581810083306, 'N': 0.670224181899167}\n"
     ]
    }
   ],
   "source": [
    "# Run this code to check your implementation\n",
    "# Example sequence of 'H' and 'L'\n",
    "sequence = \"HHLLHHHLLHLLLLHHLL\"\n",
    "\n",
    "height_probability, weight_probability, blood_type_probability, DCM_probability = probabilities_from_sequence(sequence)\n",
    "\n",
    "print(\"Probability of height given sequence:\", height_probability)\n",
    "print(\"Probability of weight given sequence:\", weight_probability)\n",
    "print(\"Probability of blood type given sequence:\", blood_type_probability)\n",
    "print(\"Probability of DCM given sequence:\", DCM_probability)"
   ]
  },
  {
   "cell_type": "markdown",
   "metadata": {
    "id": "EglKERkiKrZv"
   },
   "source": [
    "# Bayesian Network for Heart Disease Probability Calculation (30 points)\n",
    "\n",
    "In this section, we introduce a Bayesian network to calculate the probability of heart disease based on various features. We assume that the relationships between features follow a specific structure, depicted in the image below.\n",
    "\n",
    "![Bayesian Net](BN.png)\n",
    "\n",
    "The Bayesian network comprises nodes representing different features, including sex, weight, height, Dilated Cardiomyopathy (DCM), blood type, and heart disease. The directed edges between nodes indicate probabilistic dependencies between them.\n",
    "\n",
    "Function Implementation:\n",
    "We will implement two functions to facilitate the calculation of heart disease probability:\n",
    "\n",
    "1. calculate_sex_probability:\n",
    "\n",
    "  This function calculates the probability of sex based on the given probabilities of weight and height.\n",
    "\n",
    "2. calculate_heart_disease_probability:\n",
    "\n",
    "  This function computes the probability of heart disease based on the probabilities of sex, DCM, and blood type."
   ]
  },
  {
   "cell_type": "code",
   "execution_count": 7,
   "metadata": {
    "id": "wi3Rz_6eOCpD"
   },
   "outputs": [],
   "source": [
    "# The probability of sex given height and weight, the tuple is in this order: (sex, height, weight)\n",
    "P_sex_given_hw = {\n",
    "    ('M', 160, 50): 0.7, ('F', 160, 50): 0.3,\n",
    "    ('M', 160, 65): 0.2, ('F', 160, 65): 0.8,\n",
    "    ('M', 160, 80): 0.3, ('F', 160, 80): 0.7,\n",
    "    ('M', 160, 95): 0.2, ('F', 160, 95): 0.8,\n",
    "    ('M', 170, 50): 0.8, ('F', 170, 50): 0.2,\n",
    "    ('M', 170, 65): 0.75, ('F', 170, 65): 0.25,\n",
    "    ('M', 170, 80): 0.4, ('F', 170, 80): 0.6,\n",
    "    ('M', 170, 95): 0.3, ('F', 170, 95): 0.7,\n",
    "    ('M', 180, 50): 0.9, ('F', 180, 50): 0.1,\n",
    "    ('M', 180, 65): 0.7, ('F', 180, 65): 0.3,\n",
    "    ('M', 180, 80): 0.65, ('F', 180, 80): 0.35,\n",
    "    ('M', 180, 95): 0.4, ('F', 180, 95): 0.6,\n",
    "    ('M', 190, 50): 0.95, ('F', 190, 50): 0.05,\n",
    "    ('M', 190, 65): 0.8, ('F', 190, 65): 0.2,\n",
    "    ('M', 190, 80): 0.6, ('F', 190, 80): 0.4,\n",
    "    ('M', 190, 95): 0.95, ('F', 190, 95): 0.05\n",
    "}"
   ]
  },
  {
   "cell_type": "code",
   "execution_count": 8,
   "metadata": {
    "id": "p_sCg50LOraD"
   },
   "outputs": [],
   "source": [
    "def calculate_sex_probability(height_prob: dict, weight_prob: dict) -> dict:\n",
    "    \n",
    "    sex_given_hw = copy.deepcopy(P_sex_given_hw)\n",
    "    final = {}\n",
    "    \n",
    "#     join\n",
    "    for x in sex_given_hw.keys():\n",
    "        sex_given_hw[x] *= height_prob[x[1]]\n",
    "        \n",
    "#     sumout\n",
    "    for x in [('M', 50), ('F', 50), ('M', 65), ('F', 65), ('M', 80), ('F', 80), ('M', 95), ('F', 95)]:\n",
    "        sum_value = 0\n",
    "        for y in sex_given_hw.keys():\n",
    "            if y[0] == x[0] and y[2] == x[1]:\n",
    "                sum_value += sex_given_hw[y]\n",
    "        final[x] = sum_value\n",
    "    sex_given_hw = final\n",
    "    final = {}\n",
    "    \n",
    "#     join\n",
    "    for x in sex_given_hw.keys():\n",
    "        sex_given_hw[x] *= weight_prob[x[1]]\n",
    "    \n",
    "#     sumout\n",
    "    for x in ['M', 'F']:\n",
    "        sum_value = 0\n",
    "        for y in sex_given_hw.keys():\n",
    "            if y[0] == x[0]:\n",
    "                sum_value += sex_given_hw[y]\n",
    "        final[x] = sum_value\n",
    "    sex_given_hw = final\n",
    "    \n",
    "\n",
    "    return sex_given_hw"
   ]
  },
  {
   "cell_type": "code",
   "execution_count": 9,
   "metadata": {
    "colab": {
     "base_uri": "https://localhost:8080/"
    },
    "executionInfo": {
     "elapsed": 389,
     "status": "ok",
     "timestamp": 1710794236538,
     "user": {
      "displayName": "Omid Daliran",
      "userId": "14293939971066168269"
     },
     "user_tz": -210
    },
    "id": "zChVjCjzOVoZ",
    "outputId": "81cfd99f-d550-4799-8e05-747b1a967f84"
   },
   "outputs": [
    {
     "name": "stdout",
     "output_type": "stream",
     "text": [
      "Probability of sex: {'M': 0.6355000000000002, 'F': 0.36450000000000005}\n"
     ]
    }
   ],
   "source": [
    "# Run this code to test you implementation\n",
    "# Example probabilities of height\n",
    "P_height = {160: 0.1, 170: 0.3, 180: 0.4, 190: 0.2}\n",
    "# Example probabilities of weight\n",
    "P_weight = {50: 0.2, 65: 0.3, 80: 0.4, 95: 0.1}\n",
    "# Example conditional probabilities of sex given height and weight\n",
    "\n",
    "\n",
    "sex_probabilities = calculate_sex_probability(P_height, P_weight)\n",
    "print(\"Probability of sex:\", sex_probabilities)"
   ]
  },
  {
   "cell_type": "code",
   "execution_count": 10,
   "metadata": {
    "id": "mRooypaNPDr5"
   },
   "outputs": [],
   "source": [
    "# The probability of hear disease given sex, DCM and blood type, the tuple is in this order: (heart disease, sex, blood type, DCM)\n",
    "P_heart_disease_given_parents = {\n",
    "    ('N', 'M', 'O', 'Y'): 0.3, ('Y', 'M', 'O', 'Y'): 0.7,\n",
    "    ('N', 'M', 'A', 'Y'): 0.4, ('Y', 'M', 'A', 'Y'): 0.6,\n",
    "    ('N', 'M', 'B', 'Y'): 0.5, ('Y', 'M', 'B', 'Y'): 0.5,\n",
    "    ('N', 'M', 'AB', 'Y'): 0.6, ('Y', 'M', 'AB', 'Y'): 0.4,\n",
    "    ('N', 'F', 'O', 'Y'): 0.6, ('Y', 'F', 'O', 'Y'): 0.4,\n",
    "    ('N', 'F', 'A', 'Y'): 0.3, ('Y', 'F', 'A', 'Y'): 0.7,\n",
    "    ('N', 'F', 'B', 'Y'): 0.4, ('Y', 'F', 'B', 'Y'): 0.6,\n",
    "    ('N', 'F', 'AB', 'Y'): 0.7, ('Y', 'F', 'AB', 'Y'): 0.3,\n",
    "    ('N', 'M', 'O', 'N'): 0.6, ('Y', 'M', 'O', 'N'): 0.4,\n",
    "    ('N', 'M', 'A', 'N'): 0.15, ('Y', 'M', 'A', 'N'): 0.85,\n",
    "    ('N', 'M', 'B', 'N'): 0.4, ('Y', 'M', 'B', 'N'): 0.6,\n",
    "    ('N', 'M', 'AB', 'N'): 0.7, ('Y', 'M', 'AB', 'N'): 0.3,\n",
    "    ('N', 'F', 'O', 'N'): 0.8, ('Y', 'F', 'O', 'N'): 0.2,\n",
    "    ('N', 'F', 'A', 'N'): 0.7, ('Y', 'F', 'A', 'N'): 0.3,\n",
    "    ('N', 'F', 'B', 'N'): 0.65, ('Y', 'F', 'B', 'N'): 0.35,\n",
    "    ('N', 'F', 'AB', 'N'): 0.35, ('Y', 'F', 'AB', 'N'): 0.65,\n",
    "}"
   ]
  },
  {
   "cell_type": "code",
   "execution_count": 11,
   "metadata": {
    "id": "yIG7zuoyPiiN"
   },
   "outputs": [],
   "source": [
    "def calculate_heart_disease_probability(DCM_prob: dict, sex_prob: dict, blood_type_prob: dict) -> dict:\n",
    "    \n",
    "    hd_given_parents = copy.deepcopy(P_heart_disease_given_parents)\n",
    "    final = {}\n",
    "    \n",
    "#     join\n",
    "    for x in hd_given_parents.keys():\n",
    "        hd_given_parents[x] *= sex_prob[x[1]]\n",
    "        \n",
    "#     sumout\n",
    "    for x in [('N', 'O', 'Y'), ('Y', 'O', 'Y'), ('N', 'A', 'Y'), ('Y', 'A', 'Y'), \n",
    "              ('N', 'B', 'Y'), ('Y', 'B', 'Y'), ('N', 'AB', 'Y'), ('Y', 'AB', 'Y'),\n",
    "              ('N', 'O', 'N'), ('Y', 'O', 'N'), ('N', 'A', 'N'), ('Y', 'A', 'N'), \n",
    "              ('N', 'B', 'N'), ('Y', 'B', 'N'), ('N', 'AB', 'N'), ('Y', 'AB', 'N')]:\n",
    "        sum_value = 0\n",
    "        for y in hd_given_parents.keys():\n",
    "            if y[0] == x[0] and y[2] == x[1] and y[3] == x[2]:\n",
    "                sum_value += hd_given_parents[y]\n",
    "        final[x] = sum_value\n",
    "    hd_given_parents = final\n",
    "    final = {}\n",
    "    \n",
    "#     join\n",
    "    for x in hd_given_parents.keys():\n",
    "        hd_given_parents[x] *= blood_type_prob[x[1]]\n",
    "        \n",
    "#     sumout\n",
    "    for x in [('N', 'Y'), ('Y', 'Y'), ('N', 'N'), ('Y', 'N')]:\n",
    "        sum_value = 0\n",
    "        for y in hd_given_parents.keys():\n",
    "            if y[0] == x[0] and y[2] == x[1]:\n",
    "                sum_value += hd_given_parents[y]\n",
    "        final[x] = sum_value\n",
    "    hd_given_parents = final\n",
    "    final = {}\n",
    "    \n",
    "#     join\n",
    "    for x in hd_given_parents.keys():\n",
    "        hd_given_parents[x] *= DCM_prob[x[1]]\n",
    "        \n",
    "#     sumout\n",
    "    for x in ['Y', 'N']:\n",
    "        sum_value = 0\n",
    "        for y in hd_given_parents.keys():\n",
    "            if y[0] == x[0]:\n",
    "                sum_value += hd_given_parents[y]\n",
    "        final[x] = sum_value\n",
    "    hd_given_parents = final\n",
    "    final = {}\n",
    "\n",
    "    \n",
    "    return hd_given_parents"
   ]
  },
  {
   "cell_type": "code",
   "execution_count": 12,
   "metadata": {
    "colab": {
     "base_uri": "https://localhost:8080/"
    },
    "executionInfo": {
     "elapsed": 412,
     "status": "ok",
     "timestamp": 1710794311998,
     "user": {
      "displayName": "Omid Daliran",
      "userId": "14293939971066168269"
     },
     "user_tz": -210
    },
    "id": "QA0XWltJPXJL",
    "outputId": "3c03135f-07ed-4fb3-9205-2b3745c878e5"
   },
   "outputs": [
    {
     "name": "stdout",
     "output_type": "stream",
     "text": [
      "Probability of heart disease:  {'Y': 0.4152, 'N': 0.5848}\n"
     ]
    }
   ],
   "source": [
    "# Run this code to test you implementation\n",
    "# Example probabilities of DCM\n",
    "P_DCM = {'Y': 0.2, 'N': 0.8}\n",
    "# Example probabilities of blood type\n",
    "P_blood_type = {'O': 0.4, 'A': 0.3, 'B': 0.2, 'AB': 0.1}\n",
    "# Example probabilities of sex\n",
    "P_sex = {'M': 0.3, 'F': 0.7}\n",
    "\n",
    "\n",
    "heart_disease_probabilities = calculate_heart_disease_probability(P_DCM, P_sex, P_blood_type)\n",
    "print(\"Probability of heart disease: \",heart_disease_probabilities)"
   ]
  },
  {
   "cell_type": "markdown",
   "metadata": {
    "id": "i-T4axv2P2n3"
   },
   "source": [
    "# Loading DNA Sequences and Heart Disease Probability Calculation (20 points)\n",
    "\n",
    "In this part, we will load the DNA sequences from the file DNA_patients.csv and calculate the probability of heart disease for each patient. Subsequently, we will classify the patients based on their heart disease probability and save the data."
   ]
  },
  {
   "cell_type": "code",
   "execution_count": 13,
   "metadata": {
    "colab": {
     "base_uri": "https://localhost:8080/",
     "height": 206
    },
    "executionInfo": {
     "elapsed": 636,
     "status": "ok",
     "timestamp": 1710793762398,
     "user": {
      "displayName": "Omid Daliran",
      "userId": "14293939971066168269"
     },
     "user_tz": -210
    },
    "id": "AdJEmpbNSuV9",
    "outputId": "64eb2ab6-283a-45f1-aecd-71eaa83724ac"
   },
   "outputs": [
    {
     "data": {
      "text/html": [
       "<div>\n",
       "<style scoped>\n",
       "    .dataframe tbody tr th:only-of-type {\n",
       "        vertical-align: middle;\n",
       "    }\n",
       "\n",
       "    .dataframe tbody tr th {\n",
       "        vertical-align: top;\n",
       "    }\n",
       "\n",
       "    .dataframe thead th {\n",
       "        text-align: right;\n",
       "    }\n",
       "</style>\n",
       "<table border=\"1\" class=\"dataframe\">\n",
       "  <thead>\n",
       "    <tr style=\"text-align: right;\">\n",
       "      <th></th>\n",
       "      <th>ID</th>\n",
       "      <th>DNA</th>\n",
       "    </tr>\n",
       "  </thead>\n",
       "  <tbody>\n",
       "    <tr>\n",
       "      <th>0</th>\n",
       "      <td>1</td>\n",
       "      <td>CTCCAATACCCCCCACAAGAACACACCCATAAAATTGCAACCCACA...</td>\n",
       "    </tr>\n",
       "    <tr>\n",
       "      <th>1</th>\n",
       "      <td>2</td>\n",
       "      <td>TTGATGTAGAAGTATATTTGTTGGGTATTTGAGGTAACGTTATTAG...</td>\n",
       "    </tr>\n",
       "    <tr>\n",
       "      <th>2</th>\n",
       "      <td>3</td>\n",
       "      <td>ATATAATTTAAAGTCACTGGAAAAAAACAACCTAATAAAAACCACC...</td>\n",
       "    </tr>\n",
       "    <tr>\n",
       "      <th>3</th>\n",
       "      <td>4</td>\n",
       "      <td>TAAAGACAAAATTAAATTGAAGTAATGTTATGTTAAAATTTTGAAT...</td>\n",
       "    </tr>\n",
       "    <tr>\n",
       "      <th>4</th>\n",
       "      <td>5</td>\n",
       "      <td>AGCGTTTGTTCGTTAGCCGTAGGCAATGACGTGATTCAGGTCTGTG...</td>\n",
       "    </tr>\n",
       "  </tbody>\n",
       "</table>\n",
       "</div>"
      ],
      "text/plain": [
       "   ID                                                DNA\n",
       "0   1  CTCCAATACCCCCCACAAGAACACACCCATAAAATTGCAACCCACA...\n",
       "1   2  TTGATGTAGAAGTATATTTGTTGGGTATTTGAGGTAACGTTATTAG...\n",
       "2   3  ATATAATTTAAAGTCACTGGAAAAAAACAACCTAATAAAAACCACC...\n",
       "3   4  TAAAGACAAAATTAAATTGAAGTAATGTTATGTTAAAATTTTGAAT...\n",
       "4   5  AGCGTTTGTTCGTTAGCCGTAGGCAATGACGTGATTCAGGTCTGTG..."
      ]
     },
     "execution_count": 13,
     "metadata": {},
     "output_type": "execute_result"
    }
   ],
   "source": [
    "# Read the CSV file into a DataFrame\n",
    "df = pd.read_csv('DNA_patients.csv')\n",
    "\n",
    "df.head()"
   ]
  },
  {
   "cell_type": "code",
   "execution_count": 14,
   "metadata": {
    "id": "0983HNjhlDa1"
   },
   "outputs": [],
   "source": [
    "# Extract DNA sequences and store them in a list\n",
    "DNAs = df['DNA']\n",
    "\n",
    "states = ['H', 'L']\n",
    "emissions = {'A': [0.2, 0.3], 'C': [0.3, 0.2], 'G': [0.3, 0.2], 'T': [0.2, 0.3]}\n",
    "start_probabilities = [0.5, 0.5]\n",
    "transition_probabilities = [[0.5, 0.5], [0.4, 0.6]]\n",
    "\n",
    "hmm = HMM(states, emissions, start_probabilities, transition_probabilities)\n",
    "\n",
    "GC_content_seqs = []\n",
    "\n",
    "for seq in DNAs:\n",
    "    path, max_probability = hmm.viterbi(seq)\n",
    "    GC_content_seqs.append(path)"
   ]
  },
  {
   "cell_type": "code",
   "execution_count": 15,
   "metadata": {
    "id": "-65oY4N5lqHk"
   },
   "outputs": [],
   "source": [
    "heart_disease_classified = []\n",
    "for seq in GC_content_seqs:\n",
    "    h, w, bt, dcm = probabilities_from_sequence(seq)\n",
    "    s = calculate_sex_probability(h, w)\n",
    "    hd = calculate_heart_disease_probability(dcm, s, bt)\n",
    "    if hd['Y'] >= 0.5:\n",
    "        heart_disease_classified.append(1)\n",
    "    else:\n",
    "        heart_disease_classified.append(0)"
   ]
  },
  {
   "cell_type": "code",
   "execution_count": 16,
   "metadata": {
    "id": "GU9WNiH7W6y-"
   },
   "outputs": [],
   "source": [
    "# Write the result to CSV\n",
    "labels = [(i+1, heart_disease_classified[i]) for i in range(len(heart_disease_classified))]\n",
    "csv_filename = \"my_heart_disease_result.csv\"\n",
    "with open(csv_filename, mode='w', newline='') as file:\n",
    "    writer = csv.writer(file)\n",
    "    writer.writerow(['ID', 'Label'])\n",
    "    for id, label in labels:\n",
    "        writer.writerow([id, label])"
   ]
  },
  {
   "cell_type": "markdown",
   "metadata": {
    "id": "w1nu_AHq1E4g"
   },
   "source": [
    "**Note: You should upload heart_disease_result.csv along side your notebook.**"
   ]
  }
 ],
 "metadata": {
  "colab": {
   "authorship_tag": "ABX9TyPRfMk8suKBOCWfeOJUd3WF",
   "provenance": []
  },
  "kernelspec": {
   "display_name": "Python 3 (ipykernel)",
   "language": "python",
   "name": "python3"
  },
  "language_info": {
   "codemirror_mode": {
    "name": "ipython",
    "version": 3
   },
   "file_extension": ".py",
   "mimetype": "text/x-python",
   "name": "python",
   "nbconvert_exporter": "python",
   "pygments_lexer": "ipython3",
   "version": "3.11.1"
  }
 },
 "nbformat": 4,
 "nbformat_minor": 1
}
